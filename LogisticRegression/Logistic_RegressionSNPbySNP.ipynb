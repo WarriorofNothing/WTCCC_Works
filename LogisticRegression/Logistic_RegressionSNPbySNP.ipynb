{
 "cells": [
  {
   "cell_type": "code",
   "execution_count": 1,
   "metadata": {
    "collapsed": true
   },
   "outputs": [],
   "source": [
    "import pandas as pd\n",
    "import numpy as np\n",
    "import matplotlib.pyplot as plt\n",
    "import seaborn as seabornInstance\n",
    "from sklearn.model_selection import train_test_split\n",
    "from sklearn.linear_model import LinearRegression\n",
    "# import the class\n",
    "from sklearn.linear_model import LogisticRegression\n",
    "from sklearn.model_selection import cross_validate\n",
    "from sklearn.metrics import confusion_matrix\n",
    "from sklearn import metrics\n",
    "#matplotlib inline\n",
    "import random"
   ]
  },
  {
   "cell_type": "code",
   "execution_count": 2,
   "outputs": [],
   "source": [
    "dataset = pd.read_csv('C:\\\\Users\\\\USER\\\\Desktop\\\\FCUP - Doutoramento\\\\PHD_Thesis_Git_Code\\\\WTCCC\\\\table_study_cases_control_with_scores_and_new_controls.csv')"
   ],
   "metadata": {
    "collapsed": false,
    "pycharm": {
     "name": "#%%\n"
    }
   }
  },
  {
   "cell_type": "code",
   "execution_count": 3,
   "outputs": [
    {
     "data": {
      "text/plain": "      cohort  rs1523041_CC-1  rs1523041_CG-1  rs1523041_GG-1  score1_<= 0.2-1  \\\n0          1               0               0               1                0   \n1          1               0               1               0                0   \n2          1               0               1               0                0   \n3          1               0               0               1                0   \n4          1               0               1               0                0   \n...      ...             ...             ...             ...              ...   \n4995       0               0               1               0                0   \n4996       0               1               0               0                0   \n4997       0               0               1               0                0   \n4998       0               0               1               0                0   \n4999       0               0               1               0                0   \n\n      score1_[0.2-0.4]-1  score1_[0.4-0.6]-1  score1_[0.6-0.8]-1  \\\n0                      0                   0                   0   \n1                      0                   0                   0   \n2                      0                   0                   0   \n3                      0                   0                   0   \n4                      0                   0                   0   \n...                  ...                 ...                 ...   \n4995                   0                   0                   0   \n4996                   0                   0                   0   \n4997                   0                   0                   0   \n4998                   0                   0                   0   \n4999                   0                   0                   0   \n\n      score1_[0.8-0.9]-1  score1_[0.9-1.0]-1  ...  score6_[0.8-0.9]-6  \\\n0                      0                   1  ...                   0   \n1                      0                   1  ...                   0   \n2                      0                   1  ...                   0   \n3                      0                   1  ...                   0   \n4                      0                   1  ...                   0   \n...                  ...                 ...  ...                 ...   \n4995                   0                   1  ...                   0   \n4996                   0                   1  ...                   0   \n4997                   0                   1  ...                   0   \n4998                   0                   1  ...                   0   \n4999                   0                   1  ...                   0   \n\n      score6_[0.9-1.0]-6  rs9621532_AA-7  rs9621532_AC-7  rs9621532_CC-7  \\\n0                      1               0               1               0   \n1                      1               1               0               0   \n2                      1               1               0               0   \n3                      1               1               0               0   \n4                      1               1               0               0   \n...                  ...             ...             ...             ...   \n4995                   1               1               0               0   \n4996                   1               1               0               0   \n4997                   1               1               0               0   \n4998                   1               1               0               0   \n4999                   1               0               1               0   \n\n      score7_<= 0.2-7  score7_[0.4-0.6]-7  score7_[0.6-0.8]-7  \\\n0                   0                   0                   0   \n1                   0                   0                   0   \n2                   0                   0                   0   \n3                   0                   0                   0   \n4                   0                   0                   0   \n...               ...                 ...                 ...   \n4995                0                   0                   0   \n4996                0                   0                   0   \n4997                0                   0                   0   \n4998                0                   0                   0   \n4999                0                   0                   0   \n\n      score7_[0.8-0.9]-7  score7_[0.9-1.0]-7  \n0                      0                   1  \n1                      0                   1  \n2                      0                   1  \n3                      0                   1  \n4                      0                   1  \n...                  ...                 ...  \n4995                   0                   1  \n4996                   0                   1  \n4997                   0                   1  \n4998                   0                   1  \n4999                   0                   1  \n\n[5000 rows x 56 columns]",
      "text/html": "<div>\n<style scoped>\n    .dataframe tbody tr th:only-of-type {\n        vertical-align: middle;\n    }\n\n    .dataframe tbody tr th {\n        vertical-align: top;\n    }\n\n    .dataframe thead th {\n        text-align: right;\n    }\n</style>\n<table border=\"1\" class=\"dataframe\">\n  <thead>\n    <tr style=\"text-align: right;\">\n      <th></th>\n      <th>cohort</th>\n      <th>rs1523041_CC-1</th>\n      <th>rs1523041_CG-1</th>\n      <th>rs1523041_GG-1</th>\n      <th>score1_&lt;= 0.2-1</th>\n      <th>score1_[0.2-0.4]-1</th>\n      <th>score1_[0.4-0.6]-1</th>\n      <th>score1_[0.6-0.8]-1</th>\n      <th>score1_[0.8-0.9]-1</th>\n      <th>score1_[0.9-1.0]-1</th>\n      <th>...</th>\n      <th>score6_[0.8-0.9]-6</th>\n      <th>score6_[0.9-1.0]-6</th>\n      <th>rs9621532_AA-7</th>\n      <th>rs9621532_AC-7</th>\n      <th>rs9621532_CC-7</th>\n      <th>score7_&lt;= 0.2-7</th>\n      <th>score7_[0.4-0.6]-7</th>\n      <th>score7_[0.6-0.8]-7</th>\n      <th>score7_[0.8-0.9]-7</th>\n      <th>score7_[0.9-1.0]-7</th>\n    </tr>\n  </thead>\n  <tbody>\n    <tr>\n      <th>0</th>\n      <td>1</td>\n      <td>0</td>\n      <td>0</td>\n      <td>1</td>\n      <td>0</td>\n      <td>0</td>\n      <td>0</td>\n      <td>0</td>\n      <td>0</td>\n      <td>1</td>\n      <td>...</td>\n      <td>0</td>\n      <td>1</td>\n      <td>0</td>\n      <td>1</td>\n      <td>0</td>\n      <td>0</td>\n      <td>0</td>\n      <td>0</td>\n      <td>0</td>\n      <td>1</td>\n    </tr>\n    <tr>\n      <th>1</th>\n      <td>1</td>\n      <td>0</td>\n      <td>1</td>\n      <td>0</td>\n      <td>0</td>\n      <td>0</td>\n      <td>0</td>\n      <td>0</td>\n      <td>0</td>\n      <td>1</td>\n      <td>...</td>\n      <td>0</td>\n      <td>1</td>\n      <td>1</td>\n      <td>0</td>\n      <td>0</td>\n      <td>0</td>\n      <td>0</td>\n      <td>0</td>\n      <td>0</td>\n      <td>1</td>\n    </tr>\n    <tr>\n      <th>2</th>\n      <td>1</td>\n      <td>0</td>\n      <td>1</td>\n      <td>0</td>\n      <td>0</td>\n      <td>0</td>\n      <td>0</td>\n      <td>0</td>\n      <td>0</td>\n      <td>1</td>\n      <td>...</td>\n      <td>0</td>\n      <td>1</td>\n      <td>1</td>\n      <td>0</td>\n      <td>0</td>\n      <td>0</td>\n      <td>0</td>\n      <td>0</td>\n      <td>0</td>\n      <td>1</td>\n    </tr>\n    <tr>\n      <th>3</th>\n      <td>1</td>\n      <td>0</td>\n      <td>0</td>\n      <td>1</td>\n      <td>0</td>\n      <td>0</td>\n      <td>0</td>\n      <td>0</td>\n      <td>0</td>\n      <td>1</td>\n      <td>...</td>\n      <td>0</td>\n      <td>1</td>\n      <td>1</td>\n      <td>0</td>\n      <td>0</td>\n      <td>0</td>\n      <td>0</td>\n      <td>0</td>\n      <td>0</td>\n      <td>1</td>\n    </tr>\n    <tr>\n      <th>4</th>\n      <td>1</td>\n      <td>0</td>\n      <td>1</td>\n      <td>0</td>\n      <td>0</td>\n      <td>0</td>\n      <td>0</td>\n      <td>0</td>\n      <td>0</td>\n      <td>1</td>\n      <td>...</td>\n      <td>0</td>\n      <td>1</td>\n      <td>1</td>\n      <td>0</td>\n      <td>0</td>\n      <td>0</td>\n      <td>0</td>\n      <td>0</td>\n      <td>0</td>\n      <td>1</td>\n    </tr>\n    <tr>\n      <th>...</th>\n      <td>...</td>\n      <td>...</td>\n      <td>...</td>\n      <td>...</td>\n      <td>...</td>\n      <td>...</td>\n      <td>...</td>\n      <td>...</td>\n      <td>...</td>\n      <td>...</td>\n      <td>...</td>\n      <td>...</td>\n      <td>...</td>\n      <td>...</td>\n      <td>...</td>\n      <td>...</td>\n      <td>...</td>\n      <td>...</td>\n      <td>...</td>\n      <td>...</td>\n      <td>...</td>\n    </tr>\n    <tr>\n      <th>4995</th>\n      <td>0</td>\n      <td>0</td>\n      <td>1</td>\n      <td>0</td>\n      <td>0</td>\n      <td>0</td>\n      <td>0</td>\n      <td>0</td>\n      <td>0</td>\n      <td>1</td>\n      <td>...</td>\n      <td>0</td>\n      <td>1</td>\n      <td>1</td>\n      <td>0</td>\n      <td>0</td>\n      <td>0</td>\n      <td>0</td>\n      <td>0</td>\n      <td>0</td>\n      <td>1</td>\n    </tr>\n    <tr>\n      <th>4996</th>\n      <td>0</td>\n      <td>1</td>\n      <td>0</td>\n      <td>0</td>\n      <td>0</td>\n      <td>0</td>\n      <td>0</td>\n      <td>0</td>\n      <td>0</td>\n      <td>1</td>\n      <td>...</td>\n      <td>0</td>\n      <td>1</td>\n      <td>1</td>\n      <td>0</td>\n      <td>0</td>\n      <td>0</td>\n      <td>0</td>\n      <td>0</td>\n      <td>0</td>\n      <td>1</td>\n    </tr>\n    <tr>\n      <th>4997</th>\n      <td>0</td>\n      <td>0</td>\n      <td>1</td>\n      <td>0</td>\n      <td>0</td>\n      <td>0</td>\n      <td>0</td>\n      <td>0</td>\n      <td>0</td>\n      <td>1</td>\n      <td>...</td>\n      <td>0</td>\n      <td>1</td>\n      <td>1</td>\n      <td>0</td>\n      <td>0</td>\n      <td>0</td>\n      <td>0</td>\n      <td>0</td>\n      <td>0</td>\n      <td>1</td>\n    </tr>\n    <tr>\n      <th>4998</th>\n      <td>0</td>\n      <td>0</td>\n      <td>1</td>\n      <td>0</td>\n      <td>0</td>\n      <td>0</td>\n      <td>0</td>\n      <td>0</td>\n      <td>0</td>\n      <td>1</td>\n      <td>...</td>\n      <td>0</td>\n      <td>1</td>\n      <td>1</td>\n      <td>0</td>\n      <td>0</td>\n      <td>0</td>\n      <td>0</td>\n      <td>0</td>\n      <td>0</td>\n      <td>1</td>\n    </tr>\n    <tr>\n      <th>4999</th>\n      <td>0</td>\n      <td>0</td>\n      <td>1</td>\n      <td>0</td>\n      <td>0</td>\n      <td>0</td>\n      <td>0</td>\n      <td>0</td>\n      <td>0</td>\n      <td>1</td>\n      <td>...</td>\n      <td>0</td>\n      <td>1</td>\n      <td>0</td>\n      <td>1</td>\n      <td>0</td>\n      <td>0</td>\n      <td>0</td>\n      <td>0</td>\n      <td>0</td>\n      <td>1</td>\n    </tr>\n  </tbody>\n</table>\n<p>5000 rows × 56 columns</p>\n</div>"
     },
     "execution_count": 3,
     "metadata": {},
     "output_type": "execute_result"
    }
   ],
   "source": [
    "copy = dataset\n",
    "copy['cohort'] = copy['cohort'].map({'case': 1 ,'control': 0})\n",
    "dummy_dataset = copy.drop(columns=['patient', 'Age', 'Region', 'Gender'])\n",
    "dummy_dataset = pd.get_dummies(dummy_dataset)\n",
    "dummy_dataset"
   ],
   "metadata": {
    "collapsed": false,
    "pycharm": {
     "name": "#%%\n"
    }
   }
  },
  {
   "cell_type": "code",
   "execution_count": 4,
   "outputs": [
    {
     "data": {
      "text/plain": "Index(['cohort', 'rs1523041_CC-1', 'rs1523041_CG-1', 'rs1523041_GG-1',\n       'score1_<= 0.2-1', 'score1_[0.2-0.4]-1', 'score1_[0.4-0.6]-1',\n       'score1_[0.6-0.8]-1', 'score1_[0.8-0.9]-1', 'score1_[0.9-1.0]-1',\n       'rs1006737_AA-2', 'rs1006737_AG-2', 'rs1006737_GG-2',\n       'score2_[0.4-0.6]-2', 'score2_[0.6-0.8]-2', 'score2_[0.8-0.9]-2',\n       'score2_[0.9-1.0]-2', 'rs4765914_CC-3', 'rs4765914_CT-3',\n       'rs4765914_TT-3', 'score3_<= 0.2-3', 'score3_[0.4-0.6]-3',\n       'score3_[0.6-0.8]-3', 'score3_[0.8-0.9]-3', 'score3_[0.9-1.0]-3',\n       'rs9371601_GG-4', 'rs9371601_GT-4', 'rs9371601_TT-4', 'score4_<= 0.2-4',\n       'score4_[0.2-0.4]-4', 'score4_[0.8-0.9]-4', 'score4_[0.9-1.0]-4',\n       'rs1064395_AA-5', 'rs1064395_AG-5', 'rs1064395_GG-5', 'score5_<= 0.2-5',\n       'score5_[0.2-0.4]-5', 'score5_[0.4-0.6]-5', 'score5_[0.6-0.8]-5',\n       'score5_[0.8-0.9]-5', 'score5_[0.9-1.0]-5', 'rs7680321_CC-6',\n       'rs7680321_CT-6', 'rs7680321_TT-6', 'score6_<= 0.2-6',\n       'score6_[0.6-0.8]-6', 'score6_[0.8-0.9]-6', 'score6_[0.9-1.0]-6',\n       'rs9621532_AA-7', 'rs9621532_AC-7', 'rs9621532_CC-7', 'score7_<= 0.2-7',\n       'score7_[0.4-0.6]-7', 'score7_[0.6-0.8]-7', 'score7_[0.8-0.9]-7',\n       'score7_[0.9-1.0]-7'],\n      dtype='object')"
     },
     "execution_count": 4,
     "metadata": {},
     "output_type": "execute_result"
    }
   ],
   "source": [
    "dummy_dataset.columns"
   ],
   "metadata": {
    "collapsed": false,
    "pycharm": {
     "name": "#%%\n"
    }
   }
  },
  {
   "cell_type": "markdown",
   "source": [
    "Study of rs1523041"
   ],
   "metadata": {
    "collapsed": false,
    "pycharm": {
     "name": "#%% md\n"
    }
   }
  },
  {
   "cell_type": "code",
   "execution_count": 8,
   "outputs": [],
   "source": [
    "#split dataset in features and target variable\n",
    "feature_cols = ['rs1523041_CC-1', 'rs1523041_CG-1', 'rs1523041_GG-1',\n",
    "                'score1_<= 0.2-1', 'score1_[0.2-0.4]-1', 'score1_[0.4-0.6]-1',\n",
    "                'score1_[0.6-0.8]-1', 'score1_[0.8-0.9]-1', 'score1_[0.9-1.0]-1'\n",
    "                ]\n",
    "X_gen1 = dummy_dataset[feature_cols] # Features\n",
    "y_gen1 = dummy_dataset.cohort # Target variable"
   ],
   "metadata": {
    "collapsed": false,
    "pycharm": {
     "name": "#%%\n"
    }
   }
  },
  {
   "cell_type": "code",
   "execution_count": 9,
   "outputs": [],
   "source": [
    "def predictlogisticregression(xtrain, ytrain, xtest, ytest):\n",
    "    logreg = LogisticRegression(class_weight='balanced')\n",
    "    logreg.fit(xtrain,ytrain)\n",
    "    predict = logreg.predict(xtest)\n",
    "    cm = confusion_matrix(ytest, predict)\n",
    "    return cm"
   ],
   "metadata": {
    "collapsed": false,
    "pycharm": {
     "name": "#%%\n"
    }
   }
  },
  {
   "cell_type": "code",
   "execution_count": 10,
   "outputs": [
    {
     "name": "stdout",
     "output_type": "stream",
     "text": [
      "SNP: rs1006737--------------------------------------------\n",
      "-------------------Confusion Matrix 1-----------------------\n",
      "tn: 276 fp: 307 fn: 195 tp: 222\n",
      "---------------------Metrics of 1------------------------------\n",
      "Precision: 41.97%\n",
      "Recall: 53.24%\n",
      "Error Rate : 50.20%\n",
      "----------------------------------------------------------------\n",
      "-------------------Confusion Matrix 2-----------------------\n",
      "tn: 304 fp: 315 fn: 152 tp: 229\n",
      "---------------------Metrics of 2------------------------------\n",
      "Precision: 42.10%\n",
      "Recall: 60.10%\n",
      "Error Rate : 46.70%\n"
     ]
    }
   ],
   "source": [
    "X_train1,X_test1,y_train1,y_test1=train_test_split(X_gen1,y_gen1,test_size=0.20)\n",
    "X_train2,X_test2,y_train2,y_test2=train_test_split(X_gen1,y_gen1,test_size=0.20)\n",
    "X_train3,X_test3,y_train3,y_test3=train_test_split(X_gen1,y_gen1,test_size=0.20)\n",
    "X_train4,X_test4,y_train4,y_test4=train_test_split(X_gen1,y_gen1,test_size=0.20)\n",
    "X_train5,X_test5,y_train5,y_test5=train_test_split(X_gen1,y_gen1,test_size=0.20)\n",
    "X_train6,X_test6,y_train6,y_test6=train_test_split(X_gen1,y_gen1,test_size=0.20)\n",
    "X_train7,X_test7,y_train7,y_test7=train_test_split(X_gen1,y_gen1,test_size=0.20)\n",
    "X_train8,X_test8,y_train8,y_test8=train_test_split(X_gen1,y_gen1,test_size=0.20)\n",
    "X_train9,X_test9,y_train9,y_test9=train_test_split(X_gen1,y_gen1,test_size=0.20)\n",
    "X_train10,X_test10,y_train10,y_test10=train_test_split(X_gen1,y_gen1,test_size=0.20)\n",
    "\n",
    "\n",
    "y_prediction1 = predictlogisticregression(X_train1, y_train1, X_test1, y_test1)\n",
    "y_prediction2 = predictlogisticregression(X_train2, y_train2, X_test2, y_test2)\n",
    "y_prediction3 = predictlogisticregression(X_train3, y_train3, X_test3, y_test3)\n",
    "y_prediction4 = predictlogisticregression(X_train4, y_train4, X_test4, y_test4)\n",
    "y_prediction5 = predictlogisticregression(X_train5, y_train5, X_test5, y_test5)\n",
    "y_prediction6 = predictlogisticregression(X_train6, y_train6, X_test6, y_test6)\n",
    "y_prediction7 = predictlogisticregression(X_train7, y_train7, X_test7, y_test7)\n",
    "y_prediction8 = predictlogisticregression(X_train8, y_train8, X_test8, y_test8)\n",
    "y_prediction9 = predictlogisticregression(X_train9, y_train9, X_test9, y_test9)\n",
    "y_prediction10 = predictlogisticregression(X_train10, y_train10, X_test10, y_test10)\n",
    "\n",
    "precision1 = y_prediction1[1, 1]/(y_prediction1[1, 1] + y_prediction1[0, 1])\n",
    "recall1 = y_prediction1[1, 1]/(y_prediction1[1, 1] + y_prediction1[1, 0])\n",
    "error_rate1 = (y_prediction1[0, 1] + y_prediction1[1,0])/(y_prediction1[0, 0] + y_prediction1[0, 1]+ y_prediction1[1, 1] + y_prediction1[1, 0])\n",
    "accuracy1 = (y_prediction1[0, 0] + y_prediction1[1,1])/(y_prediction1[0, 0] + y_prediction1[0, 1]+ y_prediction1[1, 1] + y_prediction1[1, 0])\n",
    "\n",
    "print(\"SNP: rs1006737--------------------------------------------\")\n",
    "print(\"-------------------Confusion Matrix 1-----------------------\")\n",
    "print(\"tn: \"+ str(y_prediction1[0, 0]) ,\"fp: \"+ str(y_prediction1[0, 1])+ \" fn: \" + str(y_prediction1[1, 0]) + \" tp: \" + str(y_prediction1[1, 1]))\n",
    "print(\"---------------------Metrics of 1------------------------------\")\n",
    "print(f'Precision: {precision1*100:.2f}%')\n",
    "print(f'Recall: {recall1*100:.2f}%')\n",
    "print(f'Error Rate : {error_rate1*100:.2f}%')\n",
    "print(f'Accuracy : {accuracy1 * 100:.2f}%')\n",
    "\n",
    "precision2 = y_prediction2[1, 1]/(y_prediction2[1, 1] + y_prediction2[0, 1])\n",
    "recall2 = y_prediction2[1, 1]/(y_prediction2[1, 1] + y_prediction2[1, 0])\n",
    "error_rate2 = (y_prediction2[0, 1] + y_prediction2[1,0])/(y_prediction2[0, 0] + y_prediction2[0, 1]+ y_prediction2[1, 1] + y_prediction2[1, 0])\n",
    "accuracy2 = (y_prediction2[0, 0] + y_prediction2[1,1])/(y_prediction2[0, 0] + y_prediction2[0, 1]+ y_prediction2[1, 1] + y_prediction2[1, 0])\n",
    "print(\"----------------------------------------------------------------\")\n",
    "print(\"-------------------Confusion Matrix 2-----------------------\")\n",
    "print(\"tn: \"+ str(y_prediction2[0, 0]) ,\"fp: \"+ str(y_prediction2[0, 1])+ \" fn: \" + str(y_prediction2[1, 0]) + \" tp: \" + str(y_prediction2[1, 1]))\n",
    "print(\"---------------------Metrics of 2------------------------------\")\n",
    "print(f'Precision: {precision2*100:.2f}%')\n",
    "print(f'Recall: {recall2*100:.2f}%')\n",
    "print(f'Error Rate : {error_rate2*100:.2f}%')\n",
    "print(f'Accuracy : {accuracy2 * 100:.2f}%')\n",
    "print(\"----------------------------------------------------------------\")\n",
    "\n",
    "precision3 = y_prediction3[1, 1]/(y_prediction3[1, 1] + y_prediction3[0, 1])\n",
    "recall3 = y_prediction3[1, 1]/(y_prediction3[1, 1] + y_prediction3[1, 0])\n",
    "error_rate3 = (y_prediction3[0, 1] + y_prediction2[1,0])/(y_prediction3[0, 0] + y_prediction3[0, 1]+ y_prediction3[1, 1] + y_prediction3[1, 0])\n",
    "accuracy3 = (y_prediction3[0, 0] + y_prediction3[1,1])/(y_prediction3[0, 0] + y_prediction3[0, 1]+ y_prediction3[1, 1] + y_prediction3[1, 0])\n",
    "\n",
    "print(\"-------------------Confusion Matrix 3-----------------------\")\n",
    "print(\"tn: \"+ str(y_prediction3[0, 0]) ,\"fp: \"+ str(y_prediction3[0, 1])+ \" fn: \" + str(y_prediction3[1, 0]) + \" tp: \" + str(y_prediction3[1, 1]))\n",
    "print(\"---------------------Metrics of 3------------------------------\")\n",
    "print(f'Precision: {precision3*100:.2f}%')\n",
    "print(f'Recall: {recall3*100:.2f}%')\n",
    "print(f'Error Rate : {error_rate3*100:.2f}%')\n",
    "print(f'Accuracy : {accuracy3 * 100:.2f}%')\n",
    "print(\"----------------------------------------------------------------\")\n",
    "\n",
    "\n",
    "print(\"-------------------Confusion Matrix 4-----------------------\")\n",
    "print(\"tn: \"+ str(y_prediction2[0, 0]) ,\"fp: \"+ str(y_prediction2[0, 1])+ \" fn: \" + str(y_prediction2[1, 0]) + \" tp: \" + str(y_prediction2[1, 1]))\n",
    "print(\"---------------------Metrics of 4------------------------------\")\n",
    "print(f'Precision: {y_prediction2[1, 1]/(y_prediction2[1, 1] + y_prediction2[0, 1])*100:.2f}%')\n",
    "print(f'Recall: {y_prediction2[1, 1]/(y_prediction2[1, 1] + y_prediction2[1, 0])*100:.2f}%')\n",
    "print(f'Error Rate : {(y_prediction2[0, 1] + y_prediction2[1,0])/(y_prediction2[0, 0] + y_prediction2[0, 1]+ y_prediction2[1, 1] + y_prediction2[1, 0])*100:.2f}%')\n",
    "print(\"----------------------------------------------------------------\")\n",
    "print(\"-------------------Confusion Matrix 5-----------------------\")\n",
    "print(\"tn: \"+ str(y_prediction2[0, 0]) ,\"fp: \"+ str(y_prediction2[0, 1])+ \" fn: \" + str(y_prediction2[1, 0]) + \" tp: \" + str(y_prediction2[1, 1]))\n",
    "print(\"---------------------Metrics of 5------------------------------\")\n",
    "print(f'Precision: {y_prediction2[1, 1]/(y_prediction2[1, 1] + y_prediction2[0, 1])*100:.2f}%')\n",
    "print(f'Recall: {y_prediction2[1, 1]/(y_prediction2[1, 1] + y_prediction2[1, 0])*100:.2f}%')\n",
    "print(f'Error Rate : {(y_prediction2[0, 1] + y_prediction2[1,0])/(y_prediction2[0, 0] + y_prediction2[0, 1]+ y_prediction2[1, 1] + y_prediction2[1, 0])*100:.2f}%')\n",
    "print(\"----------------------------------------------------------------\")\n",
    "print(\"-------------------Confusion Matrix 6-----------------------\")\n",
    "print(\"tn: \"+ str(y_prediction2[0, 0]) ,\"fp: \"+ str(y_prediction2[0, 1])+ \" fn: \" + str(y_prediction2[1, 0]) + \" tp: \" + str(y_prediction2[1, 1]))\n",
    "print(\"---------------------Metrics of 6------------------------------\")\n",
    "print(f'Precision: {y_prediction2[1, 1]/(y_prediction2[1, 1] + y_prediction2[0, 1])*100:.2f}%')\n",
    "print(f'Recall: {y_prediction2[1, 1]/(y_prediction2[1, 1] + y_prediction2[1, 0])*100:.2f}%')\n",
    "print(f'Error Rate : {(y_prediction2[0, 1] + y_prediction2[1,0])/(y_prediction2[0, 0] + y_prediction2[0, 1]+ y_prediction2[1, 1] + y_prediction2[1, 0])*100:.2f}%')"
   ],
   "metadata": {
    "collapsed": false,
    "pycharm": {
     "name": "#%%\n"
    }
   }
  },
  {
   "cell_type": "code",
   "execution_count": null,
   "outputs": [],
   "source": [],
   "metadata": {
    "collapsed": false,
    "pycharm": {
     "name": "#%%\n"
    }
   }
  }
 ],
 "metadata": {
  "kernelspec": {
   "display_name": "Python 3",
   "language": "python",
   "name": "python3"
  },
  "language_info": {
   "codemirror_mode": {
    "name": "ipython",
    "version": 2
   },
   "file_extension": ".py",
   "mimetype": "text/x-python",
   "name": "python",
   "nbconvert_exporter": "python",
   "pygments_lexer": "ipython2",
   "version": "2.7.6"
  }
 },
 "nbformat": 4,
 "nbformat_minor": 0
}