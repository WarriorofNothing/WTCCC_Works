{
 "cells": [
  {
   "cell_type": "code",
   "execution_count": 1,
   "metadata": {
    "collapsed": true
   },
   "outputs": [],
   "source": [
    "import pandas as pd\n",
    "import numpy as np\n",
    "import matplotlib.pyplot as plt\n",
    "import seaborn as seabornInstance\n",
    "from sklearn.model_selection import train_test_split\n",
    "from sklearn.linear_model import LinearRegression\n",
    "from sklearn import metrics\n",
    "#matplotlib inline\n",
    "import random"
   ]
  },
  {
   "cell_type": "code",
   "execution_count": 2,
   "outputs": [],
   "source": [
    "dataset = pd.read_csv('C:\\\\Users\\\\USER\\\\Desktop\\\\FCUP - Doutoramento\\\\PHD_Thesis_Git_Code\\\\WTCCC\\\\table_study_cases_control_with_scores_and_new_controls.csv')"
   ],
   "metadata": {
    "collapsed": false,
    "pycharm": {
     "name": "#%%\n"
    }
   }
  },
  {
   "cell_type": "code",
   "execution_count": 34,
   "outputs": [
    {
     "data": {
      "text/plain": "          patient rs1523041       score1 rs1006737       score2 rs4765914  \\\n0      WTCCC65841      GG-1  [0.9-1.0]-1      AG-2  [0.9-1.0]-2      CT-3   \n1      WTCCC65569      CG-1  [0.9-1.0]-1      AG-2  [0.9-1.0]-2      CT-3   \n2      WTCCC65777      CG-1  [0.9-1.0]-1      AG-2  [0.9-1.0]-2      CC-3   \n3      WTCCC65795      GG-1  [0.9-1.0]-1      AG-2  [0.9-1.0]-2      CC-3   \n4      WTCCC65810      CG-1  [0.9-1.0]-1      AG-2  [0.9-1.0]-2      CT-3   \n...           ...       ...          ...       ...          ...       ...   \n4995  WTCCC127809      CG-1  [0.9-1.0]-1      AG-2  [0.9-1.0]-2      CT-3   \n4996  WTCCC127812      CC-1  [0.9-1.0]-1      GG-2  [0.9-1.0]-2      CC-3   \n4997  WTCCC127814      CG-1  [0.9-1.0]-1      AG-2  [0.9-1.0]-2      CC-3   \n4998  WTCCC127815      CG-1  [0.9-1.0]-1      AA-2  [0.9-1.0]-2      TT-3   \n4999  WTCCC127817      CG-1  [0.9-1.0]-1      GG-2  [0.9-1.0]-2      CC-3   \n\n           score3 rs9371601       score4 rs1064395       score5 rs7680321  \\\n0     [0.9-1.0]-3      GG-4  [0.9-1.0]-4      GG-5  [0.9-1.0]-5      TT-6   \n1     [0.9-1.0]-3      TT-4  [0.9-1.0]-4      AG-5  [0.9-1.0]-5      CT-6   \n2     [0.9-1.0]-3      GG-4  [0.9-1.0]-4      GG-5  [0.9-1.0]-5      TT-6   \n3     [0.9-1.0]-3      GG-4  [0.9-1.0]-4      GG-5  [0.9-1.0]-5      TT-6   \n4     [0.9-1.0]-3      GT-4  [0.9-1.0]-4      AG-5  [0.9-1.0]-5      TT-6   \n...           ...       ...          ...       ...          ...       ...   \n4995  [0.9-1.0]-3      GT-4  [0.9-1.0]-4      GG-5  [0.9-1.0]-5      TT-6   \n4996  [0.9-1.0]-3      GG-4  [0.9-1.0]-4      GG-5  [0.9-1.0]-5      TT-6   \n4997  [0.9-1.0]-3      GG-4  [0.9-1.0]-4      GG-5  [0.9-1.0]-5      TT-6   \n4998  [0.9-1.0]-3      GT-4  [0.9-1.0]-4      GG-5  [0.9-1.0]-5      TT-6   \n4999  [0.9-1.0]-3      GT-4  [0.9-1.0]-4      GG-5  [0.9-1.0]-5      TT-6   \n\n           score6 rs9621532       score7  Age               Region  Gender  \\\n0     [0.9-1.0]-6      AC-7  [0.9-1.0]-7    3         Southwestern  female   \n1     [0.9-1.0]-6      AA-7  [0.9-1.0]-7    5         Southwestern  female   \n2     [0.9-1.0]-6      AA-7  [0.9-1.0]-7    6         Northwestern  female   \n3     [0.9-1.0]-6      AA-7  [0.9-1.0]-7    3             Southern    male   \n4     [0.9-1.0]-6      AA-7  [0.9-1.0]-7    7                Wales    male   \n...           ...       ...          ...  ...                  ...     ...   \n4995  [0.9-1.0]-6      AA-7  [0.9-1.0]-7    5              Eastern    male   \n4996  [0.9-1.0]-6      AA-7  [0.9-1.0]-7    3             Northern  female   \n4997  [0.9-1.0]-6      AA-7  [0.9-1.0]-7    3             Northern    male   \n4998  [0.9-1.0]-6      AA-7  [0.9-1.0]-7    4             Midlands    male   \n4999  [0.9-1.0]-6      AC-7  [0.9-1.0]-7    6  East + West Ridings    male   \n\n       cohort  \n0        case  \n1        case  \n2        case  \n3        case  \n4        case  \n...       ...  \n4995  control  \n4996  control  \n4997  control  \n4998  control  \n4999  control  \n\n[5000 rows x 19 columns]",
      "text/html": "<div>\n<style scoped>\n    .dataframe tbody tr th:only-of-type {\n        vertical-align: middle;\n    }\n\n    .dataframe tbody tr th {\n        vertical-align: top;\n    }\n\n    .dataframe thead th {\n        text-align: right;\n    }\n</style>\n<table border=\"1\" class=\"dataframe\">\n  <thead>\n    <tr style=\"text-align: right;\">\n      <th></th>\n      <th>patient</th>\n      <th>rs1523041</th>\n      <th>score1</th>\n      <th>rs1006737</th>\n      <th>score2</th>\n      <th>rs4765914</th>\n      <th>score3</th>\n      <th>rs9371601</th>\n      <th>score4</th>\n      <th>rs1064395</th>\n      <th>score5</th>\n      <th>rs7680321</th>\n      <th>score6</th>\n      <th>rs9621532</th>\n      <th>score7</th>\n      <th>Age</th>\n      <th>Region</th>\n      <th>Gender</th>\n      <th>cohort</th>\n    </tr>\n  </thead>\n  <tbody>\n    <tr>\n      <th>0</th>\n      <td>WTCCC65841</td>\n      <td>GG-1</td>\n      <td>[0.9-1.0]-1</td>\n      <td>AG-2</td>\n      <td>[0.9-1.0]-2</td>\n      <td>CT-3</td>\n      <td>[0.9-1.0]-3</td>\n      <td>GG-4</td>\n      <td>[0.9-1.0]-4</td>\n      <td>GG-5</td>\n      <td>[0.9-1.0]-5</td>\n      <td>TT-6</td>\n      <td>[0.9-1.0]-6</td>\n      <td>AC-7</td>\n      <td>[0.9-1.0]-7</td>\n      <td>3</td>\n      <td>Southwestern</td>\n      <td>female</td>\n      <td>case</td>\n    </tr>\n    <tr>\n      <th>1</th>\n      <td>WTCCC65569</td>\n      <td>CG-1</td>\n      <td>[0.9-1.0]-1</td>\n      <td>AG-2</td>\n      <td>[0.9-1.0]-2</td>\n      <td>CT-3</td>\n      <td>[0.9-1.0]-3</td>\n      <td>TT-4</td>\n      <td>[0.9-1.0]-4</td>\n      <td>AG-5</td>\n      <td>[0.9-1.0]-5</td>\n      <td>CT-6</td>\n      <td>[0.9-1.0]-6</td>\n      <td>AA-7</td>\n      <td>[0.9-1.0]-7</td>\n      <td>5</td>\n      <td>Southwestern</td>\n      <td>female</td>\n      <td>case</td>\n    </tr>\n    <tr>\n      <th>2</th>\n      <td>WTCCC65777</td>\n      <td>CG-1</td>\n      <td>[0.9-1.0]-1</td>\n      <td>AG-2</td>\n      <td>[0.9-1.0]-2</td>\n      <td>CC-3</td>\n      <td>[0.9-1.0]-3</td>\n      <td>GG-4</td>\n      <td>[0.9-1.0]-4</td>\n      <td>GG-5</td>\n      <td>[0.9-1.0]-5</td>\n      <td>TT-6</td>\n      <td>[0.9-1.0]-6</td>\n      <td>AA-7</td>\n      <td>[0.9-1.0]-7</td>\n      <td>6</td>\n      <td>Northwestern</td>\n      <td>female</td>\n      <td>case</td>\n    </tr>\n    <tr>\n      <th>3</th>\n      <td>WTCCC65795</td>\n      <td>GG-1</td>\n      <td>[0.9-1.0]-1</td>\n      <td>AG-2</td>\n      <td>[0.9-1.0]-2</td>\n      <td>CC-3</td>\n      <td>[0.9-1.0]-3</td>\n      <td>GG-4</td>\n      <td>[0.9-1.0]-4</td>\n      <td>GG-5</td>\n      <td>[0.9-1.0]-5</td>\n      <td>TT-6</td>\n      <td>[0.9-1.0]-6</td>\n      <td>AA-7</td>\n      <td>[0.9-1.0]-7</td>\n      <td>3</td>\n      <td>Southern</td>\n      <td>male</td>\n      <td>case</td>\n    </tr>\n    <tr>\n      <th>4</th>\n      <td>WTCCC65810</td>\n      <td>CG-1</td>\n      <td>[0.9-1.0]-1</td>\n      <td>AG-2</td>\n      <td>[0.9-1.0]-2</td>\n      <td>CT-3</td>\n      <td>[0.9-1.0]-3</td>\n      <td>GT-4</td>\n      <td>[0.9-1.0]-4</td>\n      <td>AG-5</td>\n      <td>[0.9-1.0]-5</td>\n      <td>TT-6</td>\n      <td>[0.9-1.0]-6</td>\n      <td>AA-7</td>\n      <td>[0.9-1.0]-7</td>\n      <td>7</td>\n      <td>Wales</td>\n      <td>male</td>\n      <td>case</td>\n    </tr>\n    <tr>\n      <th>...</th>\n      <td>...</td>\n      <td>...</td>\n      <td>...</td>\n      <td>...</td>\n      <td>...</td>\n      <td>...</td>\n      <td>...</td>\n      <td>...</td>\n      <td>...</td>\n      <td>...</td>\n      <td>...</td>\n      <td>...</td>\n      <td>...</td>\n      <td>...</td>\n      <td>...</td>\n      <td>...</td>\n      <td>...</td>\n      <td>...</td>\n      <td>...</td>\n    </tr>\n    <tr>\n      <th>4995</th>\n      <td>WTCCC127809</td>\n      <td>CG-1</td>\n      <td>[0.9-1.0]-1</td>\n      <td>AG-2</td>\n      <td>[0.9-1.0]-2</td>\n      <td>CT-3</td>\n      <td>[0.9-1.0]-3</td>\n      <td>GT-4</td>\n      <td>[0.9-1.0]-4</td>\n      <td>GG-5</td>\n      <td>[0.9-1.0]-5</td>\n      <td>TT-6</td>\n      <td>[0.9-1.0]-6</td>\n      <td>AA-7</td>\n      <td>[0.9-1.0]-7</td>\n      <td>5</td>\n      <td>Eastern</td>\n      <td>male</td>\n      <td>control</td>\n    </tr>\n    <tr>\n      <th>4996</th>\n      <td>WTCCC127812</td>\n      <td>CC-1</td>\n      <td>[0.9-1.0]-1</td>\n      <td>GG-2</td>\n      <td>[0.9-1.0]-2</td>\n      <td>CC-3</td>\n      <td>[0.9-1.0]-3</td>\n      <td>GG-4</td>\n      <td>[0.9-1.0]-4</td>\n      <td>GG-5</td>\n      <td>[0.9-1.0]-5</td>\n      <td>TT-6</td>\n      <td>[0.9-1.0]-6</td>\n      <td>AA-7</td>\n      <td>[0.9-1.0]-7</td>\n      <td>3</td>\n      <td>Northern</td>\n      <td>female</td>\n      <td>control</td>\n    </tr>\n    <tr>\n      <th>4997</th>\n      <td>WTCCC127814</td>\n      <td>CG-1</td>\n      <td>[0.9-1.0]-1</td>\n      <td>AG-2</td>\n      <td>[0.9-1.0]-2</td>\n      <td>CC-3</td>\n      <td>[0.9-1.0]-3</td>\n      <td>GG-4</td>\n      <td>[0.9-1.0]-4</td>\n      <td>GG-5</td>\n      <td>[0.9-1.0]-5</td>\n      <td>TT-6</td>\n      <td>[0.9-1.0]-6</td>\n      <td>AA-7</td>\n      <td>[0.9-1.0]-7</td>\n      <td>3</td>\n      <td>Northern</td>\n      <td>male</td>\n      <td>control</td>\n    </tr>\n    <tr>\n      <th>4998</th>\n      <td>WTCCC127815</td>\n      <td>CG-1</td>\n      <td>[0.9-1.0]-1</td>\n      <td>AA-2</td>\n      <td>[0.9-1.0]-2</td>\n      <td>TT-3</td>\n      <td>[0.9-1.0]-3</td>\n      <td>GT-4</td>\n      <td>[0.9-1.0]-4</td>\n      <td>GG-5</td>\n      <td>[0.9-1.0]-5</td>\n      <td>TT-6</td>\n      <td>[0.9-1.0]-6</td>\n      <td>AA-7</td>\n      <td>[0.9-1.0]-7</td>\n      <td>4</td>\n      <td>Midlands</td>\n      <td>male</td>\n      <td>control</td>\n    </tr>\n    <tr>\n      <th>4999</th>\n      <td>WTCCC127817</td>\n      <td>CG-1</td>\n      <td>[0.9-1.0]-1</td>\n      <td>GG-2</td>\n      <td>[0.9-1.0]-2</td>\n      <td>CC-3</td>\n      <td>[0.9-1.0]-3</td>\n      <td>GT-4</td>\n      <td>[0.9-1.0]-4</td>\n      <td>GG-5</td>\n      <td>[0.9-1.0]-5</td>\n      <td>TT-6</td>\n      <td>[0.9-1.0]-6</td>\n      <td>AC-7</td>\n      <td>[0.9-1.0]-7</td>\n      <td>6</td>\n      <td>East + West Ridings</td>\n      <td>male</td>\n      <td>control</td>\n    </tr>\n  </tbody>\n</table>\n<p>5000 rows × 19 columns</p>\n</div>"
     },
     "execution_count": 34,
     "metadata": {},
     "output_type": "execute_result"
    }
   ],
   "source": [
    "dataset"
   ],
   "metadata": {
    "collapsed": false,
    "pycharm": {
     "name": "#%%\n"
    }
   }
  },
  {
   "cell_type": "code",
   "execution_count": 4,
   "outputs": [
    {
     "name": "stdout",
     "output_type": "stream",
     "text": [
      "<class 'pandas.core.frame.DataFrame'>\n",
      "RangeIndex: 5000 entries, 0 to 4999\n",
      "Data columns (total 19 columns):\n",
      " #   Column     Non-Null Count  Dtype \n",
      "---  ------     --------------  ----- \n",
      " 0   patient    5000 non-null   object\n",
      " 1   rs1523041  5000 non-null   object\n",
      " 2   score1     5000 non-null   object\n",
      " 3   rs1006737  5000 non-null   object\n",
      " 4   score2     5000 non-null   object\n",
      " 5   rs4765914  5000 non-null   object\n",
      " 6   score3     5000 non-null   object\n",
      " 7   rs9371601  5000 non-null   object\n",
      " 8   score4     5000 non-null   object\n",
      " 9   rs1064395  5000 non-null   object\n",
      " 10  score5     5000 non-null   object\n",
      " 11  rs7680321  5000 non-null   object\n",
      " 12  score6     5000 non-null   object\n",
      " 13  rs9621532  5000 non-null   object\n",
      " 14  score7     5000 non-null   object\n",
      " 15  Age        5000 non-null   int64 \n",
      " 16  Region     5000 non-null   object\n",
      " 17  Gender     5000 non-null   object\n",
      " 18  cohort     5000 non-null   object\n",
      "dtypes: int64(1), object(18)\n",
      "memory usage: 742.3+ KB\n"
     ]
    }
   ],
   "source": [
    "dataset.info()"
   ],
   "metadata": {
    "collapsed": false,
    "pycharm": {
     "name": "#%%\n"
    }
   }
  },
  {
   "cell_type": "code",
   "execution_count": 5,
   "outputs": [
    {
     "data": {
      "text/plain": "Index(['patient', 'rs1523041', 'score1', 'rs1006737', 'score2', 'rs4765914',\n       'score3', 'rs9371601', 'score4', 'rs1064395', 'score5', 'rs7680321',\n       'score6', 'rs9621532', 'score7', 'Age', 'Region', 'Gender', 'cohort'],\n      dtype='object')"
     },
     "execution_count": 5,
     "metadata": {},
     "output_type": "execute_result"
    }
   ],
   "source": [
    "dataset.columns"
   ],
   "metadata": {
    "collapsed": false,
    "pycharm": {
     "name": "#%%\n"
    }
   }
  },
  {
   "cell_type": "code",
   "execution_count": 30,
   "outputs": [
    {
     "name": "stdout",
     "output_type": "stream",
     "text": [
      "rs1523041\n"
     ]
    }
   ],
   "source": [
    "print(random.choice(dataset.columns))"
   ],
   "metadata": {
    "collapsed": false,
    "pycharm": {
     "name": "#%%\n"
    }
   }
  },
  {
   "cell_type": "markdown",
   "source": [
    "1 random SNP related to Bipolar, applying Logistic Regression"
   ],
   "metadata": {
    "collapsed": false,
    "pycharm": {
     "name": "#%% md\n"
    }
   }
  },
  {
   "cell_type": "code",
   "execution_count": 12,
   "outputs": [],
   "source": [
    "snp_random_select = pd.DataFrame(columns=['rs1006737', 'score_2', 'cohort'])"
   ],
   "metadata": {
    "collapsed": false,
    "pycharm": {
     "name": "#%%\n"
    }
   }
  },
  {
   "cell_type": "code",
   "execution_count": 13,
   "outputs": [],
   "source": [
    "snp_random_select['rs1006737'] = dataset['rs1006737']\n",
    "snp_random_select['score_2'] = dataset['score2']\n",
    "snp_random_select['cohort'] = dataset['cohort']"
   ],
   "metadata": {
    "collapsed": false,
    "pycharm": {
     "name": "#%%\n"
    }
   }
  },
  {
   "cell_type": "code",
   "execution_count": 14,
   "outputs": [
    {
     "data": {
      "text/plain": "      rs1006737_AA-2  rs1006737_AG-2  rs1006737_GG-2  score_2_[0.4-0.6]-2  \\\n0                  0               1               0                    0   \n1                  0               1               0                    0   \n2                  0               1               0                    0   \n3                  0               1               0                    0   \n4                  0               1               0                    0   \n...              ...             ...             ...                  ...   \n4995               0               1               0                    0   \n4996               0               0               1                    0   \n4997               0               1               0                    0   \n4998               1               0               0                    0   \n4999               0               0               1                    0   \n\n      score_2_[0.6-0.8]-2  score_2_[0.8-0.9]-2  score_2_[0.9-1.0]-2  \\\n0                       0                    0                    1   \n1                       0                    0                    1   \n2                       0                    0                    1   \n3                       0                    0                    1   \n4                       0                    0                    1   \n...                   ...                  ...                  ...   \n4995                    0                    0                    1   \n4996                    0                    0                    1   \n4997                    0                    0                    1   \n4998                    0                    0                    1   \n4999                    0                    0                    1   \n\n      cohort_control  \n0                  0  \n1                  0  \n2                  0  \n3                  0  \n4                  0  \n...              ...  \n4995               1  \n4996               1  \n4997               1  \n4998               1  \n4999               1  \n\n[5000 rows x 8 columns]",
      "text/html": "<div>\n<style scoped>\n    .dataframe tbody tr th:only-of-type {\n        vertical-align: middle;\n    }\n\n    .dataframe tbody tr th {\n        vertical-align: top;\n    }\n\n    .dataframe thead th {\n        text-align: right;\n    }\n</style>\n<table border=\"1\" class=\"dataframe\">\n  <thead>\n    <tr style=\"text-align: right;\">\n      <th></th>\n      <th>rs1006737_AA-2</th>\n      <th>rs1006737_AG-2</th>\n      <th>rs1006737_GG-2</th>\n      <th>score_2_[0.4-0.6]-2</th>\n      <th>score_2_[0.6-0.8]-2</th>\n      <th>score_2_[0.8-0.9]-2</th>\n      <th>score_2_[0.9-1.0]-2</th>\n      <th>cohort_control</th>\n    </tr>\n  </thead>\n  <tbody>\n    <tr>\n      <th>0</th>\n      <td>0</td>\n      <td>1</td>\n      <td>0</td>\n      <td>0</td>\n      <td>0</td>\n      <td>0</td>\n      <td>1</td>\n      <td>0</td>\n    </tr>\n    <tr>\n      <th>1</th>\n      <td>0</td>\n      <td>1</td>\n      <td>0</td>\n      <td>0</td>\n      <td>0</td>\n      <td>0</td>\n      <td>1</td>\n      <td>0</td>\n    </tr>\n    <tr>\n      <th>2</th>\n      <td>0</td>\n      <td>1</td>\n      <td>0</td>\n      <td>0</td>\n      <td>0</td>\n      <td>0</td>\n      <td>1</td>\n      <td>0</td>\n    </tr>\n    <tr>\n      <th>3</th>\n      <td>0</td>\n      <td>1</td>\n      <td>0</td>\n      <td>0</td>\n      <td>0</td>\n      <td>0</td>\n      <td>1</td>\n      <td>0</td>\n    </tr>\n    <tr>\n      <th>4</th>\n      <td>0</td>\n      <td>1</td>\n      <td>0</td>\n      <td>0</td>\n      <td>0</td>\n      <td>0</td>\n      <td>1</td>\n      <td>0</td>\n    </tr>\n    <tr>\n      <th>...</th>\n      <td>...</td>\n      <td>...</td>\n      <td>...</td>\n      <td>...</td>\n      <td>...</td>\n      <td>...</td>\n      <td>...</td>\n      <td>...</td>\n    </tr>\n    <tr>\n      <th>4995</th>\n      <td>0</td>\n      <td>1</td>\n      <td>0</td>\n      <td>0</td>\n      <td>0</td>\n      <td>0</td>\n      <td>1</td>\n      <td>1</td>\n    </tr>\n    <tr>\n      <th>4996</th>\n      <td>0</td>\n      <td>0</td>\n      <td>1</td>\n      <td>0</td>\n      <td>0</td>\n      <td>0</td>\n      <td>1</td>\n      <td>1</td>\n    </tr>\n    <tr>\n      <th>4997</th>\n      <td>0</td>\n      <td>1</td>\n      <td>0</td>\n      <td>0</td>\n      <td>0</td>\n      <td>0</td>\n      <td>1</td>\n      <td>1</td>\n    </tr>\n    <tr>\n      <th>4998</th>\n      <td>1</td>\n      <td>0</td>\n      <td>0</td>\n      <td>0</td>\n      <td>0</td>\n      <td>0</td>\n      <td>1</td>\n      <td>1</td>\n    </tr>\n    <tr>\n      <th>4999</th>\n      <td>0</td>\n      <td>0</td>\n      <td>1</td>\n      <td>0</td>\n      <td>0</td>\n      <td>0</td>\n      <td>1</td>\n      <td>1</td>\n    </tr>\n  </tbody>\n</table>\n<p>5000 rows × 8 columns</p>\n</div>"
     },
     "execution_count": 14,
     "metadata": {},
     "output_type": "execute_result"
    }
   ],
   "source": [
    "s1 = ['rs1006737','score_2', 'cohort' ]\n",
    "\n",
    "dummies_snp = pd.get_dummies(snp_random_select)\n",
    "dummies_snp = dummies_snp.drop(columns=['cohort_case'])\n",
    "dummies_snp"
   ],
   "metadata": {
    "collapsed": false,
    "pycharm": {
     "name": "#%%\n"
    }
   }
  },
  {
   "cell_type": "code",
   "execution_count": 15,
   "outputs": [
    {
     "data": {
      "text/plain": "Index(['rs1006737_AA-2', 'rs1006737_AG-2', 'rs1006737_GG-2',\n       'score_2_[0.4-0.6]-2', 'score_2_[0.6-0.8]-2', 'score_2_[0.8-0.9]-2',\n       'score_2_[0.9-1.0]-2', 'cohort_control'],\n      dtype='object')"
     },
     "execution_count": 15,
     "metadata": {},
     "output_type": "execute_result"
    }
   ],
   "source": [
    "dummies_snp.columns"
   ],
   "metadata": {
    "collapsed": false,
    "pycharm": {
     "name": "#%%\n"
    }
   }
  },
  {
   "cell_type": "code",
   "execution_count": 16,
   "outputs": [],
   "source": [
    "#split dataset in features and target variable\n",
    "feature_cols = ['rs1006737_AA-2', 'rs1006737_AG-2', 'rs1006737_GG-2',\n",
    "                'score_2_[0.4-0.6]-2', 'score_2_[0.6-0.8]-2', 'score_2_[0.8-0.9]-2',\n",
    "                'score_2_[0.9-1.0]-2'\n",
    "                ]\n",
    "X = dummies_snp[feature_cols] # Features\n",
    "y = dummies_snp.cohort_control # Target variable"
   ],
   "metadata": {
    "collapsed": false,
    "pycharm": {
     "name": "#%%\n"
    }
   }
  },
  {
   "cell_type": "markdown",
   "source": [],
   "metadata": {
    "collapsed": false
   }
  },
  {
   "cell_type": "code",
   "execution_count": 33,
   "outputs": [
    {
     "name": "stdout",
     "output_type": "stream",
     "text": [
      "(4000, 7)\n",
      "(1000, 7)\n",
      "Train info:\n",
      "0    0.879\n",
      "1    0.121\n",
      "Name: rs1006737_AA-2, dtype: float64\n",
      "Test info:\n",
      "0    0.891\n",
      "1    0.109\n",
      "Name: rs1006737_AA-2, dtype: float64\n"
     ]
    }
   ],
   "source": [
    "#random_seed = 888\n",
    "# split X and y into training and testing sets\n",
    "X_train,X_test,y_train,y_test=train_test_split(X,y,test_size=0.20)\n",
    "\n",
    "\n",
    "print(X_train.shape)\n",
    "print(X_test.shape)\n",
    "print(\"Train info:\")\n",
    "print(X_train['rs1006737_AA-2'].value_counts(normalize=True))\n",
    "print(\"Test info:\")\n",
    "print(X_test['rs1006737_AA-2'].value_counts(normalize=True))"
   ],
   "metadata": {
    "collapsed": false,
    "pycharm": {
     "name": "#%%\n"
    }
   }
  },
  {
   "cell_type": "code",
   "execution_count": 34,
   "outputs": [],
   "source": [
    "# import the class\n",
    "from sklearn.linear_model import LogisticRegression\n",
    "\n",
    "# instantiate the model (using the default parameters)\n",
    "logreg = LogisticRegression(class_weight='balanced')\n",
    "\n",
    "# fit the model with data\n",
    "logreg.fit(X_train,y_train)\n",
    "\n",
    "#\n",
    "y_pred=logreg.predict(X_test)"
   ],
   "metadata": {
    "collapsed": false,
    "pycharm": {
     "name": "#%%\n"
    }
   }
  },
  {
   "cell_type": "markdown",
   "source": [
    "Confusion Matrix obtaining from the logistic regression"
   ],
   "metadata": {
    "collapsed": false,
    "pycharm": {
     "name": "#%% md\n"
    }
   }
  },
  {
   "cell_type": "code",
   "execution_count": 10,
   "outputs": [],
   "source": [
    "from sklearn.model_selection import cross_validate\n",
    "from sklearn.metrics import confusion_matrix\n",
    "\n",
    "def confusion_matrix_scorer(clf, X, y):\n",
    "   y_pre = clf.predict(X)\n",
    "   cm = confusion_matrix(y, y_pre)\n",
    "   return {'tn': cm[0, 0], 'fp': cm[0, 1],\n",
    "                 'fn': cm[1, 0], 'tp': cm[1, 1]}"
   ],
   "metadata": {
    "collapsed": false,
    "pycharm": {
     "name": "#%%\n"
    }
   }
  },
  {
   "cell_type": "code",
   "execution_count": 35,
   "outputs": [
    {
     "data": {
      "text/plain": "{'tn': 207, 'fp': 181, 'fn': 314, 'tp': 298}"
     },
     "execution_count": 35,
     "metadata": {},
     "output_type": "execute_result"
    }
   ],
   "source": [
    "confusion_matrix_scorer(logreg,X_test,y_test)"
   ],
   "metadata": {
    "collapsed": false,
    "pycharm": {
     "name": "#%%\n"
    }
   }
  },
  {
   "cell_type": "markdown",
   "source": [
    "Experiment of Logistic Regression with SNPs that were obtained from the apriori algorithm\n",
    "\n",
    "SNPs found in apriori:\n",
    "'rs7680321'\n",
    "'rs1006737'\n",
    "'rs4765914'\n",
    "'rs9621532'"
   ],
   "metadata": {
    "collapsed": false,
    "pycharm": {
     "name": "#%% md\n"
    }
   }
  },
  {
   "cell_type": "code",
   "execution_count": 3,
   "outputs": [
    {
     "data": {
      "text/plain": "      rs1006737_AA-2  rs1006737_AG-2  rs1006737_GG-2  score_2_[0.4-0.6]-2  \\\n0                  0               1               0                    0   \n1                  0               1               0                    0   \n2                  0               1               0                    0   \n3                  0               1               0                    0   \n4                  0               1               0                    0   \n...              ...             ...             ...                  ...   \n4995               0               1               0                    0   \n4996               0               0               1                    0   \n4997               0               1               0                    0   \n4998               1               0               0                    0   \n4999               0               0               1                    0   \n\n      score_2_[0.6-0.8]-2  score_2_[0.8-0.9]-2  score_2_[0.9-1.0]-2  \\\n0                       0                    0                    1   \n1                       0                    0                    1   \n2                       0                    0                    1   \n3                       0                    0                    1   \n4                       0                    0                    1   \n...                   ...                  ...                  ...   \n4995                    0                    0                    1   \n4996                    0                    0                    1   \n4997                    0                    0                    1   \n4998                    0                    0                    1   \n4999                    0                    0                    1   \n\n      rs4765914_CC-3  rs4765914_CT-3  rs4765914_TT-3  ...  \\\n0                  0               1               0  ...   \n1                  0               1               0  ...   \n2                  1               0               0  ...   \n3                  1               0               0  ...   \n4                  0               1               0  ...   \n...              ...             ...             ...  ...   \n4995               0               1               0  ...   \n4996               1               0               0  ...   \n4997               1               0               0  ...   \n4998               0               0               1  ...   \n4999               1               0               0  ...   \n\n      score_6_[0.9-1.0]-6  rs9621532_AA-7  rs9621532_AC-7  rs9621532_CC-7  \\\n0                       1               0               1               0   \n1                       1               1               0               0   \n2                       1               1               0               0   \n3                       1               1               0               0   \n4                       1               1               0               0   \n...                   ...             ...             ...             ...   \n4995                    1               1               0               0   \n4996                    1               1               0               0   \n4997                    1               1               0               0   \n4998                    1               1               0               0   \n4999                    1               0               1               0   \n\n      score_7_<= 0.2-7  score_7_[0.4-0.6]-7  score_7_[0.6-0.8]-7  \\\n0                    0                    0                    0   \n1                    0                    0                    0   \n2                    0                    0                    0   \n3                    0                    0                    0   \n4                    0                    0                    0   \n...                ...                  ...                  ...   \n4995                 0                    0                    0   \n4996                 0                    0                    0   \n4997                 0                    0                    0   \n4998                 0                    0                    0   \n4999                 0                    0                    0   \n\n      score_7_[0.8-0.9]-7  score_7_[0.9-1.0]-7  cohort_control  \n0                       0                    1               0  \n1                       0                    1               0  \n2                       0                    1               0  \n3                       0                    1               0  \n4                       0                    1               0  \n...                   ...                  ...             ...  \n4995                    0                    1               1  \n4996                    0                    1               1  \n4997                    0                    1               1  \n4998                    0                    1               1  \n4999                    0                    1               1  \n\n[5000 rows x 31 columns]",
      "text/html": "<div>\n<style scoped>\n    .dataframe tbody tr th:only-of-type {\n        vertical-align: middle;\n    }\n\n    .dataframe tbody tr th {\n        vertical-align: top;\n    }\n\n    .dataframe thead th {\n        text-align: right;\n    }\n</style>\n<table border=\"1\" class=\"dataframe\">\n  <thead>\n    <tr style=\"text-align: right;\">\n      <th></th>\n      <th>rs1006737_AA-2</th>\n      <th>rs1006737_AG-2</th>\n      <th>rs1006737_GG-2</th>\n      <th>score_2_[0.4-0.6]-2</th>\n      <th>score_2_[0.6-0.8]-2</th>\n      <th>score_2_[0.8-0.9]-2</th>\n      <th>score_2_[0.9-1.0]-2</th>\n      <th>rs4765914_CC-3</th>\n      <th>rs4765914_CT-3</th>\n      <th>rs4765914_TT-3</th>\n      <th>...</th>\n      <th>score_6_[0.9-1.0]-6</th>\n      <th>rs9621532_AA-7</th>\n      <th>rs9621532_AC-7</th>\n      <th>rs9621532_CC-7</th>\n      <th>score_7_&lt;= 0.2-7</th>\n      <th>score_7_[0.4-0.6]-7</th>\n      <th>score_7_[0.6-0.8]-7</th>\n      <th>score_7_[0.8-0.9]-7</th>\n      <th>score_7_[0.9-1.0]-7</th>\n      <th>cohort_control</th>\n    </tr>\n  </thead>\n  <tbody>\n    <tr>\n      <th>0</th>\n      <td>0</td>\n      <td>1</td>\n      <td>0</td>\n      <td>0</td>\n      <td>0</td>\n      <td>0</td>\n      <td>1</td>\n      <td>0</td>\n      <td>1</td>\n      <td>0</td>\n      <td>...</td>\n      <td>1</td>\n      <td>0</td>\n      <td>1</td>\n      <td>0</td>\n      <td>0</td>\n      <td>0</td>\n      <td>0</td>\n      <td>0</td>\n      <td>1</td>\n      <td>0</td>\n    </tr>\n    <tr>\n      <th>1</th>\n      <td>0</td>\n      <td>1</td>\n      <td>0</td>\n      <td>0</td>\n      <td>0</td>\n      <td>0</td>\n      <td>1</td>\n      <td>0</td>\n      <td>1</td>\n      <td>0</td>\n      <td>...</td>\n      <td>1</td>\n      <td>1</td>\n      <td>0</td>\n      <td>0</td>\n      <td>0</td>\n      <td>0</td>\n      <td>0</td>\n      <td>0</td>\n      <td>1</td>\n      <td>0</td>\n    </tr>\n    <tr>\n      <th>2</th>\n      <td>0</td>\n      <td>1</td>\n      <td>0</td>\n      <td>0</td>\n      <td>0</td>\n      <td>0</td>\n      <td>1</td>\n      <td>1</td>\n      <td>0</td>\n      <td>0</td>\n      <td>...</td>\n      <td>1</td>\n      <td>1</td>\n      <td>0</td>\n      <td>0</td>\n      <td>0</td>\n      <td>0</td>\n      <td>0</td>\n      <td>0</td>\n      <td>1</td>\n      <td>0</td>\n    </tr>\n    <tr>\n      <th>3</th>\n      <td>0</td>\n      <td>1</td>\n      <td>0</td>\n      <td>0</td>\n      <td>0</td>\n      <td>0</td>\n      <td>1</td>\n      <td>1</td>\n      <td>0</td>\n      <td>0</td>\n      <td>...</td>\n      <td>1</td>\n      <td>1</td>\n      <td>0</td>\n      <td>0</td>\n      <td>0</td>\n      <td>0</td>\n      <td>0</td>\n      <td>0</td>\n      <td>1</td>\n      <td>0</td>\n    </tr>\n    <tr>\n      <th>4</th>\n      <td>0</td>\n      <td>1</td>\n      <td>0</td>\n      <td>0</td>\n      <td>0</td>\n      <td>0</td>\n      <td>1</td>\n      <td>0</td>\n      <td>1</td>\n      <td>0</td>\n      <td>...</td>\n      <td>1</td>\n      <td>1</td>\n      <td>0</td>\n      <td>0</td>\n      <td>0</td>\n      <td>0</td>\n      <td>0</td>\n      <td>0</td>\n      <td>1</td>\n      <td>0</td>\n    </tr>\n    <tr>\n      <th>...</th>\n      <td>...</td>\n      <td>...</td>\n      <td>...</td>\n      <td>...</td>\n      <td>...</td>\n      <td>...</td>\n      <td>...</td>\n      <td>...</td>\n      <td>...</td>\n      <td>...</td>\n      <td>...</td>\n      <td>...</td>\n      <td>...</td>\n      <td>...</td>\n      <td>...</td>\n      <td>...</td>\n      <td>...</td>\n      <td>...</td>\n      <td>...</td>\n      <td>...</td>\n      <td>...</td>\n    </tr>\n    <tr>\n      <th>4995</th>\n      <td>0</td>\n      <td>1</td>\n      <td>0</td>\n      <td>0</td>\n      <td>0</td>\n      <td>0</td>\n      <td>1</td>\n      <td>0</td>\n      <td>1</td>\n      <td>0</td>\n      <td>...</td>\n      <td>1</td>\n      <td>1</td>\n      <td>0</td>\n      <td>0</td>\n      <td>0</td>\n      <td>0</td>\n      <td>0</td>\n      <td>0</td>\n      <td>1</td>\n      <td>1</td>\n    </tr>\n    <tr>\n      <th>4996</th>\n      <td>0</td>\n      <td>0</td>\n      <td>1</td>\n      <td>0</td>\n      <td>0</td>\n      <td>0</td>\n      <td>1</td>\n      <td>1</td>\n      <td>0</td>\n      <td>0</td>\n      <td>...</td>\n      <td>1</td>\n      <td>1</td>\n      <td>0</td>\n      <td>0</td>\n      <td>0</td>\n      <td>0</td>\n      <td>0</td>\n      <td>0</td>\n      <td>1</td>\n      <td>1</td>\n    </tr>\n    <tr>\n      <th>4997</th>\n      <td>0</td>\n      <td>1</td>\n      <td>0</td>\n      <td>0</td>\n      <td>0</td>\n      <td>0</td>\n      <td>1</td>\n      <td>1</td>\n      <td>0</td>\n      <td>0</td>\n      <td>...</td>\n      <td>1</td>\n      <td>1</td>\n      <td>0</td>\n      <td>0</td>\n      <td>0</td>\n      <td>0</td>\n      <td>0</td>\n      <td>0</td>\n      <td>1</td>\n      <td>1</td>\n    </tr>\n    <tr>\n      <th>4998</th>\n      <td>1</td>\n      <td>0</td>\n      <td>0</td>\n      <td>0</td>\n      <td>0</td>\n      <td>0</td>\n      <td>1</td>\n      <td>0</td>\n      <td>0</td>\n      <td>1</td>\n      <td>...</td>\n      <td>1</td>\n      <td>1</td>\n      <td>0</td>\n      <td>0</td>\n      <td>0</td>\n      <td>0</td>\n      <td>0</td>\n      <td>0</td>\n      <td>1</td>\n      <td>1</td>\n    </tr>\n    <tr>\n      <th>4999</th>\n      <td>0</td>\n      <td>0</td>\n      <td>1</td>\n      <td>0</td>\n      <td>0</td>\n      <td>0</td>\n      <td>1</td>\n      <td>1</td>\n      <td>0</td>\n      <td>0</td>\n      <td>...</td>\n      <td>1</td>\n      <td>0</td>\n      <td>1</td>\n      <td>0</td>\n      <td>0</td>\n      <td>0</td>\n      <td>0</td>\n      <td>0</td>\n      <td>1</td>\n      <td>1</td>\n    </tr>\n  </tbody>\n</table>\n<p>5000 rows × 31 columns</p>\n</div>"
     },
     "execution_count": 3,
     "metadata": {},
     "output_type": "execute_result"
    }
   ],
   "source": [
    "snp_random_select_apriori = pd.DataFrame(columns=['rs1006737','score_2','rs4765914', 'score_3', 'rs7680321', 'score_6', 'rs9621532', 'score_7','cohort'])\n",
    "snp_random_select_apriori['rs1006737'] = dataset['rs1006737']\n",
    "snp_random_select_apriori['score_2'] = dataset['score2']\n",
    "snp_random_select_apriori['rs4765914'] = dataset['rs4765914']\n",
    "snp_random_select_apriori['score_3'] = dataset['score3']\n",
    "snp_random_select_apriori['rs7680321'] = dataset['rs7680321']\n",
    "snp_random_select_apriori['score_6'] = dataset['score6']\n",
    "snp_random_select_apriori['rs9621532'] = dataset['rs9621532']\n",
    "snp_random_select_apriori['score_7'] = dataset['score7']\n",
    "snp_random_select_apriori['cohort'] = dataset['cohort']\n",
    "dummies_snp_apriori = pd.get_dummies(snp_random_select_apriori)\n",
    "dummies_snp_apriori = dummies_snp_apriori.drop(columns=['cohort_case'])\n",
    "\n",
    "dummies_snp_apriori"
   ],
   "metadata": {
    "collapsed": false,
    "pycharm": {
     "name": "#%%\n"
    }
   }
  },
  {
   "cell_type": "code",
   "execution_count": 4,
   "outputs": [
    {
     "data": {
      "text/plain": "Index(['rs1006737_AA-2', 'rs1006737_AG-2', 'rs1006737_GG-2',\n       'score_2_[0.4-0.6]-2', 'score_2_[0.6-0.8]-2', 'score_2_[0.8-0.9]-2',\n       'score_2_[0.9-1.0]-2', 'rs4765914_CC-3', 'rs4765914_CT-3',\n       'rs4765914_TT-3', 'score_3_<= 0.2-3', 'score_3_[0.4-0.6]-3',\n       'score_3_[0.6-0.8]-3', 'score_3_[0.8-0.9]-3', 'score_3_[0.9-1.0]-3',\n       'rs7680321_CC-6', 'rs7680321_CT-6', 'rs7680321_TT-6',\n       'score_6_<= 0.2-6', 'score_6_[0.6-0.8]-6', 'score_6_[0.8-0.9]-6',\n       'score_6_[0.9-1.0]-6', 'rs9621532_AA-7', 'rs9621532_AC-7',\n       'rs9621532_CC-7', 'score_7_<= 0.2-7', 'score_7_[0.4-0.6]-7',\n       'score_7_[0.6-0.8]-7', 'score_7_[0.8-0.9]-7', 'score_7_[0.9-1.0]-7',\n       'cohort_control'],\n      dtype='object')"
     },
     "execution_count": 4,
     "metadata": {},
     "output_type": "execute_result"
    }
   ],
   "source": [
    "dummies_snp_apriori.columns"
   ],
   "metadata": {
    "collapsed": false,
    "pycharm": {
     "name": "#%%\n"
    }
   }
  },
  {
   "cell_type": "code",
   "execution_count": 5,
   "outputs": [],
   "source": [
    "#split dataset in features and target variable\n",
    "feature_cols = ['rs1006737_AA-2', 'rs1006737_AG-2', 'rs1006737_GG-2',\n",
    "                'score_2_[0.4-0.6]-2', 'score_2_[0.6-0.8]-2', 'score_2_[0.8-0.9]-2',\n",
    "                'score_2_[0.9-1.0]-2', 'rs4765914_CC-3', 'rs4765914_CT-3',\n",
    "                'rs4765914_TT-3', 'score_3_<= 0.2-3', 'score_3_[0.4-0.6]-3',\n",
    "                'score_3_[0.6-0.8]-3', 'score_3_[0.8-0.9]-3', 'score_3_[0.9-1.0]-3',\n",
    "                'rs7680321_CC-6', 'rs7680321_CT-6', 'rs7680321_TT-6',\n",
    "                'score_6_<= 0.2-6', 'score_6_[0.6-0.8]-6', 'score_6_[0.8-0.9]-6',\n",
    "                'score_6_[0.9-1.0]-6', 'rs9621532_AA-7', 'rs9621532_AC-7',\n",
    "                'rs9621532_CC-7', 'score_7_<= 0.2-7', 'score_7_[0.4-0.6]-7',\n",
    "                'score_7_[0.6-0.8]-7', 'score_7_[0.8-0.9]-7', 'score_7_[0.9-1.0]-7'\n",
    "                ]\n",
    "X_random = dummies_snp_apriori[feature_cols] # Features\n",
    "y_random = dummies_snp_apriori.cohort_control # Target variable"
   ],
   "metadata": {
    "collapsed": false,
    "pycharm": {
     "name": "#%%\n"
    }
   }
  },
  {
   "cell_type": "code",
   "execution_count": 30,
   "outputs": [
    {
     "name": "stdout",
     "output_type": "stream",
     "text": [
      "(4000, 30)\n",
      "(1000, 30)\n",
      "Train info:\n",
      "0    0.65575\n",
      "1    0.34425\n",
      "Name: rs4765914_CT-3, dtype: float64\n",
      "Test info:\n",
      "0    0.676\n",
      "1    0.324\n",
      "Name: rs4765914_CT-3, dtype: float64\n"
     ]
    }
   ],
   "source": [
    "#random_seed = 888\n",
    "# split X and y into training and testing sets\n",
    "X_train_random,X_test_random,y_train_random,y_test_random=train_test_split(X_random,y_random,test_size=0.20)\n",
    "\n",
    "\n",
    "print(X_train_random.shape)\n",
    "print(X_test_random.shape)\n",
    "print(\"Train info:\")\n",
    "print(X_train_random['rs4765914_CT-3'].value_counts(normalize=True))\n",
    "print(\"Test info:\")\n",
    "print(X_test_random['rs4765914_CT-3'].value_counts(normalize=True))"
   ],
   "metadata": {
    "collapsed": false,
    "pycharm": {
     "name": "#%%\n"
    }
   }
  },
  {
   "cell_type": "code",
   "execution_count": 31,
   "outputs": [
    {
     "name": "stderr",
     "output_type": "stream",
     "text": [
      "c:\\users\\user\\miniconda3\\lib\\site-packages\\sklearn\\linear_model\\_logistic.py:818: ConvergenceWarning: lbfgs failed to converge (status=1):\n",
      "STOP: TOTAL NO. of ITERATIONS REACHED LIMIT.\n",
      "\n",
      "Increase the number of iterations (max_iter) or scale the data as shown in:\n",
      "    https://scikit-learn.org/stable/modules/preprocessing.html\n",
      "Please also refer to the documentation for alternative solver options:\n",
      "    https://scikit-learn.org/stable/modules/linear_model.html#logistic-regression\n",
      "  extra_warning_msg=_LOGISTIC_SOLVER_CONVERGENCE_MSG,\n"
     ]
    }
   ],
   "source": [
    "# import the class\n",
    "from sklearn.linear_model import LogisticRegression\n",
    "\n",
    "# instantiate the model (using the default parameters)\n",
    "logreg_v2 = LogisticRegression(class_weight='balanced')\n",
    "\n",
    "# fit the model with data\n",
    "logreg_v2.fit(X_train_random,y_train_random)\n",
    "\n",
    "#\n",
    "y_pred_random=logreg_v2.predict(X_test_random)"
   ],
   "metadata": {
    "collapsed": false,
    "pycharm": {
     "name": "#%%\n"
    }
   }
  },
  {
   "cell_type": "code",
   "execution_count": 32,
   "outputs": [
    {
     "data": {
      "text/plain": "{'tn': 182, 'fp': 215, 'fn': 247, 'tp': 356}"
     },
     "execution_count": 32,
     "metadata": {},
     "output_type": "execute_result"
    }
   ],
   "source": [
    "confusion_matrix_scorer(logreg_v2,X_test_random,y_test_random)"
   ],
   "metadata": {
    "collapsed": false,
    "pycharm": {
     "name": "#%%\n"
    }
   }
  },
  {
   "cell_type": "code",
   "execution_count": null,
   "outputs": [],
   "source": [],
   "metadata": {
    "collapsed": false,
    "pycharm": {
     "name": "#%%\n"
    }
   }
  }
 ],
 "metadata": {
  "kernelspec": {
   "display_name": "Python 3",
   "language": "python",
   "name": "python3"
  },
  "language_info": {
   "codemirror_mode": {
    "name": "ipython",
    "version": 2
   },
   "file_extension": ".py",
   "mimetype": "text/x-python",
   "name": "python",
   "nbconvert_exporter": "python",
   "pygments_lexer": "ipython2",
   "version": "2.7.6"
  }
 },
 "nbformat": 4,
 "nbformat_minor": 0
}