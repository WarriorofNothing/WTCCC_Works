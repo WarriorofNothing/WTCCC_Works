{
 "cells": [
  {
   "cell_type": "markdown",
   "metadata": {
    "collapsed": true,
    "pycharm": {
     "name": "#%% md\n"
    }
   },
   "source": [
    "Import libraries."
   ]
  },
  {
   "cell_type": "code",
   "execution_count": 2,
   "outputs": [],
   "source": [
    "import pandas as pd\n",
    "import numpy as np\n",
    "import matplotlib.pyplot as plt\n",
    "import seaborn as seabornInstance\n",
    "from sklearn.model_selection import train_test_split\n",
    "from sklearn.linear_model import LinearRegression\n",
    "# import the class\n",
    "from sklearn.linear_model import LogisticRegression\n",
    "from sklearn.model_selection import cross_validate\n",
    "from sklearn.metrics import confusion_matrix\n",
    "from sklearn import metrics\n",
    "#matplotlib inline\n",
    "import random"
   ],
   "metadata": {
    "collapsed": false,
    "pycharm": {
     "name": "#%%\n"
    }
   }
  },
  {
   "cell_type": "markdown",
   "source": [
    "Import the dataset."
   ],
   "metadata": {
    "collapsed": false,
    "pycharm": {
     "name": "#%% md\n"
    }
   }
  },
  {
   "cell_type": "code",
   "execution_count": 26,
   "outputs": [],
   "source": [
    "dataset = pd.read_csv('C:\\\\Users\\\\USER\\\\Desktop\\\\FCUP - Doutoramento\\\\PHD_Thesis_Git_Code\\\\WTCCC\\\\table_study_cases_control_with_scores_and_new_controls.csv')"
   ],
   "metadata": {
    "collapsed": false,
    "pycharm": {
     "name": "#%%\n"
    }
   }
  },
  {
   "cell_type": "markdown",
   "source": [
    "Create a copy of the dataset to obtain the dummies except the patients column because it is not neccessary in this study."
   ],
   "metadata": {
    "collapsed": false,
    "pycharm": {
     "name": "#%% md\n"
    }
   }
  },
  {
   "cell_type": "code",
   "execution_count": 27,
   "outputs": [],
   "source": [
    "copy = dataset\n",
    "#"
   ],
   "metadata": {
    "collapsed": false,
    "pycharm": {
     "name": "#%%\n"
    }
   }
  },
  {
   "cell_type": "code",
   "execution_count": 28,
   "outputs": [
    {
     "data": {
      "text/plain": "      cohort  rs1523041_CC-1  rs1523041_CG-1  rs1523041_GG-1  score1_<= 0.2-1  \\\n0          1               0               0               1                0   \n1          1               0               1               0                0   \n2          1               0               1               0                0   \n3          1               0               0               1                0   \n4          1               0               1               0                0   \n...      ...             ...             ...             ...              ...   \n4995       0               0               1               0                0   \n4996       0               1               0               0                0   \n4997       0               0               1               0                0   \n4998       0               0               1               0                0   \n4999       0               0               1               0                0   \n\n      score1_[0.2-0.4]-1  score1_[0.4-0.6]-1  score1_[0.6-0.8]-1  \\\n0                      0                   0                   0   \n1                      0                   0                   0   \n2                      0                   0                   0   \n3                      0                   0                   0   \n4                      0                   0                   0   \n...                  ...                 ...                 ...   \n4995                   0                   0                   0   \n4996                   0                   0                   0   \n4997                   0                   0                   0   \n4998                   0                   0                   0   \n4999                   0                   0                   0   \n\n      score1_[0.8-0.9]-1  score1_[0.9-1.0]-1  ...  score6_[0.8-0.9]-6  \\\n0                      0                   1  ...                   0   \n1                      0                   1  ...                   0   \n2                      0                   1  ...                   0   \n3                      0                   1  ...                   0   \n4                      0                   1  ...                   0   \n...                  ...                 ...  ...                 ...   \n4995                   0                   1  ...                   0   \n4996                   0                   1  ...                   0   \n4997                   0                   1  ...                   0   \n4998                   0                   1  ...                   0   \n4999                   0                   1  ...                   0   \n\n      score6_[0.9-1.0]-6  rs9621532_AA-7  rs9621532_AC-7  rs9621532_CC-7  \\\n0                      1               0               1               0   \n1                      1               1               0               0   \n2                      1               1               0               0   \n3                      1               1               0               0   \n4                      1               1               0               0   \n...                  ...             ...             ...             ...   \n4995                   1               1               0               0   \n4996                   1               1               0               0   \n4997                   1               1               0               0   \n4998                   1               1               0               0   \n4999                   1               0               1               0   \n\n      score7_<= 0.2-7  score7_[0.4-0.6]-7  score7_[0.6-0.8]-7  \\\n0                   0                   0                   0   \n1                   0                   0                   0   \n2                   0                   0                   0   \n3                   0                   0                   0   \n4                   0                   0                   0   \n...               ...                 ...                 ...   \n4995                0                   0                   0   \n4996                0                   0                   0   \n4997                0                   0                   0   \n4998                0                   0                   0   \n4999                0                   0                   0   \n\n      score7_[0.8-0.9]-7  score7_[0.9-1.0]-7  \n0                      0                   1  \n1                      0                   1  \n2                      0                   1  \n3                      0                   1  \n4                      0                   1  \n...                  ...                 ...  \n4995                   0                   1  \n4996                   0                   1  \n4997                   0                   1  \n4998                   0                   1  \n4999                   0                   1  \n\n[5000 rows x 56 columns]",
      "text/html": "<div>\n<style scoped>\n    .dataframe tbody tr th:only-of-type {\n        vertical-align: middle;\n    }\n\n    .dataframe tbody tr th {\n        vertical-align: top;\n    }\n\n    .dataframe thead th {\n        text-align: right;\n    }\n</style>\n<table border=\"1\" class=\"dataframe\">\n  <thead>\n    <tr style=\"text-align: right;\">\n      <th></th>\n      <th>cohort</th>\n      <th>rs1523041_CC-1</th>\n      <th>rs1523041_CG-1</th>\n      <th>rs1523041_GG-1</th>\n      <th>score1_&lt;= 0.2-1</th>\n      <th>score1_[0.2-0.4]-1</th>\n      <th>score1_[0.4-0.6]-1</th>\n      <th>score1_[0.6-0.8]-1</th>\n      <th>score1_[0.8-0.9]-1</th>\n      <th>score1_[0.9-1.0]-1</th>\n      <th>...</th>\n      <th>score6_[0.8-0.9]-6</th>\n      <th>score6_[0.9-1.0]-6</th>\n      <th>rs9621532_AA-7</th>\n      <th>rs9621532_AC-7</th>\n      <th>rs9621532_CC-7</th>\n      <th>score7_&lt;= 0.2-7</th>\n      <th>score7_[0.4-0.6]-7</th>\n      <th>score7_[0.6-0.8]-7</th>\n      <th>score7_[0.8-0.9]-7</th>\n      <th>score7_[0.9-1.0]-7</th>\n    </tr>\n  </thead>\n  <tbody>\n    <tr>\n      <th>0</th>\n      <td>1</td>\n      <td>0</td>\n      <td>0</td>\n      <td>1</td>\n      <td>0</td>\n      <td>0</td>\n      <td>0</td>\n      <td>0</td>\n      <td>0</td>\n      <td>1</td>\n      <td>...</td>\n      <td>0</td>\n      <td>1</td>\n      <td>0</td>\n      <td>1</td>\n      <td>0</td>\n      <td>0</td>\n      <td>0</td>\n      <td>0</td>\n      <td>0</td>\n      <td>1</td>\n    </tr>\n    <tr>\n      <th>1</th>\n      <td>1</td>\n      <td>0</td>\n      <td>1</td>\n      <td>0</td>\n      <td>0</td>\n      <td>0</td>\n      <td>0</td>\n      <td>0</td>\n      <td>0</td>\n      <td>1</td>\n      <td>...</td>\n      <td>0</td>\n      <td>1</td>\n      <td>1</td>\n      <td>0</td>\n      <td>0</td>\n      <td>0</td>\n      <td>0</td>\n      <td>0</td>\n      <td>0</td>\n      <td>1</td>\n    </tr>\n    <tr>\n      <th>2</th>\n      <td>1</td>\n      <td>0</td>\n      <td>1</td>\n      <td>0</td>\n      <td>0</td>\n      <td>0</td>\n      <td>0</td>\n      <td>0</td>\n      <td>0</td>\n      <td>1</td>\n      <td>...</td>\n      <td>0</td>\n      <td>1</td>\n      <td>1</td>\n      <td>0</td>\n      <td>0</td>\n      <td>0</td>\n      <td>0</td>\n      <td>0</td>\n      <td>0</td>\n      <td>1</td>\n    </tr>\n    <tr>\n      <th>3</th>\n      <td>1</td>\n      <td>0</td>\n      <td>0</td>\n      <td>1</td>\n      <td>0</td>\n      <td>0</td>\n      <td>0</td>\n      <td>0</td>\n      <td>0</td>\n      <td>1</td>\n      <td>...</td>\n      <td>0</td>\n      <td>1</td>\n      <td>1</td>\n      <td>0</td>\n      <td>0</td>\n      <td>0</td>\n      <td>0</td>\n      <td>0</td>\n      <td>0</td>\n      <td>1</td>\n    </tr>\n    <tr>\n      <th>4</th>\n      <td>1</td>\n      <td>0</td>\n      <td>1</td>\n      <td>0</td>\n      <td>0</td>\n      <td>0</td>\n      <td>0</td>\n      <td>0</td>\n      <td>0</td>\n      <td>1</td>\n      <td>...</td>\n      <td>0</td>\n      <td>1</td>\n      <td>1</td>\n      <td>0</td>\n      <td>0</td>\n      <td>0</td>\n      <td>0</td>\n      <td>0</td>\n      <td>0</td>\n      <td>1</td>\n    </tr>\n    <tr>\n      <th>...</th>\n      <td>...</td>\n      <td>...</td>\n      <td>...</td>\n      <td>...</td>\n      <td>...</td>\n      <td>...</td>\n      <td>...</td>\n      <td>...</td>\n      <td>...</td>\n      <td>...</td>\n      <td>...</td>\n      <td>...</td>\n      <td>...</td>\n      <td>...</td>\n      <td>...</td>\n      <td>...</td>\n      <td>...</td>\n      <td>...</td>\n      <td>...</td>\n      <td>...</td>\n      <td>...</td>\n    </tr>\n    <tr>\n      <th>4995</th>\n      <td>0</td>\n      <td>0</td>\n      <td>1</td>\n      <td>0</td>\n      <td>0</td>\n      <td>0</td>\n      <td>0</td>\n      <td>0</td>\n      <td>0</td>\n      <td>1</td>\n      <td>...</td>\n      <td>0</td>\n      <td>1</td>\n      <td>1</td>\n      <td>0</td>\n      <td>0</td>\n      <td>0</td>\n      <td>0</td>\n      <td>0</td>\n      <td>0</td>\n      <td>1</td>\n    </tr>\n    <tr>\n      <th>4996</th>\n      <td>0</td>\n      <td>1</td>\n      <td>0</td>\n      <td>0</td>\n      <td>0</td>\n      <td>0</td>\n      <td>0</td>\n      <td>0</td>\n      <td>0</td>\n      <td>1</td>\n      <td>...</td>\n      <td>0</td>\n      <td>1</td>\n      <td>1</td>\n      <td>0</td>\n      <td>0</td>\n      <td>0</td>\n      <td>0</td>\n      <td>0</td>\n      <td>0</td>\n      <td>1</td>\n    </tr>\n    <tr>\n      <th>4997</th>\n      <td>0</td>\n      <td>0</td>\n      <td>1</td>\n      <td>0</td>\n      <td>0</td>\n      <td>0</td>\n      <td>0</td>\n      <td>0</td>\n      <td>0</td>\n      <td>1</td>\n      <td>...</td>\n      <td>0</td>\n      <td>1</td>\n      <td>1</td>\n      <td>0</td>\n      <td>0</td>\n      <td>0</td>\n      <td>0</td>\n      <td>0</td>\n      <td>0</td>\n      <td>1</td>\n    </tr>\n    <tr>\n      <th>4998</th>\n      <td>0</td>\n      <td>0</td>\n      <td>1</td>\n      <td>0</td>\n      <td>0</td>\n      <td>0</td>\n      <td>0</td>\n      <td>0</td>\n      <td>0</td>\n      <td>1</td>\n      <td>...</td>\n      <td>0</td>\n      <td>1</td>\n      <td>1</td>\n      <td>0</td>\n      <td>0</td>\n      <td>0</td>\n      <td>0</td>\n      <td>0</td>\n      <td>0</td>\n      <td>1</td>\n    </tr>\n    <tr>\n      <th>4999</th>\n      <td>0</td>\n      <td>0</td>\n      <td>1</td>\n      <td>0</td>\n      <td>0</td>\n      <td>0</td>\n      <td>0</td>\n      <td>0</td>\n      <td>0</td>\n      <td>1</td>\n      <td>...</td>\n      <td>0</td>\n      <td>1</td>\n      <td>0</td>\n      <td>1</td>\n      <td>0</td>\n      <td>0</td>\n      <td>0</td>\n      <td>0</td>\n      <td>0</td>\n      <td>1</td>\n    </tr>\n  </tbody>\n</table>\n<p>5000 rows × 56 columns</p>\n</div>"
     },
     "execution_count": 28,
     "metadata": {},
     "output_type": "execute_result"
    }
   ],
   "source": [
    "copy['cohort'] = copy['cohort'].map({'case': 1 ,'control': 0})\n",
    "dummy_dataset = copy.drop(columns=['patient', 'Age', 'Region', 'Gender'])\n",
    "dummy_dataset = pd.get_dummies(dummy_dataset)\n",
    "dummy_dataset"
   ],
   "metadata": {
    "collapsed": false,
    "pycharm": {
     "name": "#%%\n"
    }
   }
  },
  {
   "cell_type": "code",
   "execution_count": 29,
   "outputs": [
    {
     "data": {
      "text/plain": "Index(['cohort', 'rs1523041_CC-1', 'rs1523041_CG-1', 'rs1523041_GG-1',\n       'score1_<= 0.2-1', 'score1_[0.2-0.4]-1', 'score1_[0.4-0.6]-1',\n       'score1_[0.6-0.8]-1', 'score1_[0.8-0.9]-1', 'score1_[0.9-1.0]-1',\n       'rs1006737_AA-2', 'rs1006737_AG-2', 'rs1006737_GG-2',\n       'score2_[0.4-0.6]-2', 'score2_[0.6-0.8]-2', 'score2_[0.8-0.9]-2',\n       'score2_[0.9-1.0]-2', 'rs4765914_CC-3', 'rs4765914_CT-3',\n       'rs4765914_TT-3', 'score3_<= 0.2-3', 'score3_[0.4-0.6]-3',\n       'score3_[0.6-0.8]-3', 'score3_[0.8-0.9]-3', 'score3_[0.9-1.0]-3',\n       'rs9371601_GG-4', 'rs9371601_GT-4', 'rs9371601_TT-4', 'score4_<= 0.2-4',\n       'score4_[0.2-0.4]-4', 'score4_[0.8-0.9]-4', 'score4_[0.9-1.0]-4',\n       'rs1064395_AA-5', 'rs1064395_AG-5', 'rs1064395_GG-5', 'score5_<= 0.2-5',\n       'score5_[0.2-0.4]-5', 'score5_[0.4-0.6]-5', 'score5_[0.6-0.8]-5',\n       'score5_[0.8-0.9]-5', 'score5_[0.9-1.0]-5', 'rs7680321_CC-6',\n       'rs7680321_CT-6', 'rs7680321_TT-6', 'score6_<= 0.2-6',\n       'score6_[0.6-0.8]-6', 'score6_[0.8-0.9]-6', 'score6_[0.9-1.0]-6',\n       'rs9621532_AA-7', 'rs9621532_AC-7', 'rs9621532_CC-7', 'score7_<= 0.2-7',\n       'score7_[0.4-0.6]-7', 'score7_[0.6-0.8]-7', 'score7_[0.8-0.9]-7',\n       'score7_[0.9-1.0]-7'],\n      dtype='object')"
     },
     "execution_count": 29,
     "metadata": {},
     "output_type": "execute_result"
    }
   ],
   "source": [
    "dummy_dataset.columns"
   ],
   "metadata": {
    "collapsed": false,
    "pycharm": {
     "name": "#%%\n"
    }
   }
  },
  {
   "cell_type": "code",
   "execution_count": null,
   "outputs": [],
   "source": [
    "#split dataset in features and target variable\n",
    "feature_cols = ['rs1006737_AA-2', 'rs1006737_AG-2', 'rs1006737_GG-2',\n",
    "                'score_2_[0.4-0.6]-2', 'score_2_[0.6-0.8]-2', 'score_2_[0.8-0.9]-2',\n",
    "                'score_2_[0.9-1.0]-2'\n",
    "                ]\n",
    "X_1 = dummy_dataset[feature_cols] # Features\n",
    "y_1 = dummy_dataset.cohort_control # Target variable"
   ],
   "metadata": {
    "collapsed": false,
    "pycharm": {
     "name": "#%%\n"
    }
   }
  },
  {
   "cell_type": "markdown",
   "source": [
    "Methods used in this notebook"
   ],
   "metadata": {
    "collapsed": false,
    "pycharm": {
     "name": "#%% md\n"
    }
   }
  },
  {
   "cell_type": "code",
   "execution_count": 15,
   "outputs": [],
   "source": [
    "def predictlogisticregression(xtrain, ytrain, xtest, ytest):\n",
    "    logreg = LogisticRegression(class_weight='balanced')\n",
    "    logreg.fit(xtrain,ytrain)\n",
    "    predict = logreg.predict(xtest)\n",
    "    cm = confusion_matrix(ytest, predict)\n",
    "    return cm"
   ],
   "metadata": {
    "collapsed": false,
    "pycharm": {
     "name": "#%%\n"
    }
   }
  },
  {
   "cell_type": "code",
   "execution_count": null,
   "outputs": [],
   "source": [
    "#split dataset in features and target variable\n",
    "feature_cols = ['rs1006737_AA-2', 'rs1006737_AG-2', 'rs1006737_GG-2',\n",
    "                'score_2_[0.4-0.6]-2', 'score_2_[0.6-0.8]-2', 'score_2_[0.8-0.9]-2',\n",
    "                'score_2_[0.9-1.0]-2'\n",
    "                ]\n",
    "X = dummy_dataset[feature_cols] # Features\n",
    "y = dummy_dataset.cohort_control # Target variable\n",
    "\n",
    "\n",
    "X_train,X_test,y_train,y_test=train_test_split(X,y,test_size=0.20)\n",
    "y_prediction = predictlogisticregression(X_train, y_train, X_test, y_test)\n",
    "\n",
    "print(\"SNP: rs1006737--------------------------------------------\")\n",
    "print(\"-------------------Confusion Matrix-----------------------\")\n",
    "print(\"tn: \"+ str(y_prediction[0, 0]) ,\"fp: \"+ str(y_prediction[0, 1])+ \" fn: \" + str(y_prediction[1, 0]) + \" tp: \" + str(y_prediction[1, 1]))\n",
    "print(\"---------------------Metrics------------------------------\")\n",
    "print(f'Precision: {y_prediction[1, 1]/(y_prediction[1, 1] + y_prediction[0, 1])*100:.2f}%')\n",
    "print(f'Recall: {y_prediction[1, 1]/(y_prediction[1, 1] + y_prediction[1, 0])*100:.2f}%')\n",
    "print(f'Error Rate : {(y_prediction[0, 1] + y_prediction[1,0])/(y_prediction[0, 0] + y_prediction[0, 1]+ y_prediction[1, 1] + y_prediction[1, 0])*100:.2f}%')\n",
    "print(f'Accuracy : {(y_prediction[0, 0] + y_prediction[1,1])/(y_prediction[0, 0] + y_prediction[0, 1]+ y_prediction[1, 1] + y_prediction[1, 0])*100:.2f}%')"
   ],
   "metadata": {
    "collapsed": false,
    "pycharm": {
     "name": "#%%\n"
    }
   }
  },
  {
   "cell_type": "markdown",
   "source": [
    "Study of logistic regression SNP by SNP\n",
    "SNP rs1006737"
   ],
   "metadata": {
    "collapsed": false,
    "pycharm": {
     "name": "#%% md\n"
    }
   }
  },
  {
   "cell_type": "code",
   "execution_count": 4,
   "outputs": [
    {
     "data": {
      "text/plain": "      rs1006737_AA-2  rs1006737_AG-2  rs1006737_GG-2  score_2_[0.4-0.6]-2  \\\n0                  0               1               0                    0   \n1                  0               1               0                    0   \n2                  0               1               0                    0   \n3                  0               1               0                    0   \n4                  0               1               0                    0   \n...              ...             ...             ...                  ...   \n4995               0               1               0                    0   \n4996               0               0               1                    0   \n4997               0               1               0                    0   \n4998               1               0               0                    0   \n4999               0               0               1                    0   \n\n      score_2_[0.6-0.8]-2  score_2_[0.8-0.9]-2  score_2_[0.9-1.0]-2  \\\n0                       0                    0                    1   \n1                       0                    0                    1   \n2                       0                    0                    1   \n3                       0                    0                    1   \n4                       0                    0                    1   \n...                   ...                  ...                  ...   \n4995                    0                    0                    1   \n4996                    0                    0                    1   \n4997                    0                    0                    1   \n4998                    0                    0                    1   \n4999                    0                    0                    1   \n\n      cohort_control  \n0                  0  \n1                  0  \n2                  0  \n3                  0  \n4                  0  \n...              ...  \n4995               1  \n4996               1  \n4997               1  \n4998               1  \n4999               1  \n\n[5000 rows x 8 columns]",
      "text/html": "<div>\n<style scoped>\n    .dataframe tbody tr th:only-of-type {\n        vertical-align: middle;\n    }\n\n    .dataframe tbody tr th {\n        vertical-align: top;\n    }\n\n    .dataframe thead th {\n        text-align: right;\n    }\n</style>\n<table border=\"1\" class=\"dataframe\">\n  <thead>\n    <tr style=\"text-align: right;\">\n      <th></th>\n      <th>rs1006737_AA-2</th>\n      <th>rs1006737_AG-2</th>\n      <th>rs1006737_GG-2</th>\n      <th>score_2_[0.4-0.6]-2</th>\n      <th>score_2_[0.6-0.8]-2</th>\n      <th>score_2_[0.8-0.9]-2</th>\n      <th>score_2_[0.9-1.0]-2</th>\n      <th>cohort_control</th>\n    </tr>\n  </thead>\n  <tbody>\n    <tr>\n      <th>0</th>\n      <td>0</td>\n      <td>1</td>\n      <td>0</td>\n      <td>0</td>\n      <td>0</td>\n      <td>0</td>\n      <td>1</td>\n      <td>0</td>\n    </tr>\n    <tr>\n      <th>1</th>\n      <td>0</td>\n      <td>1</td>\n      <td>0</td>\n      <td>0</td>\n      <td>0</td>\n      <td>0</td>\n      <td>1</td>\n      <td>0</td>\n    </tr>\n    <tr>\n      <th>2</th>\n      <td>0</td>\n      <td>1</td>\n      <td>0</td>\n      <td>0</td>\n      <td>0</td>\n      <td>0</td>\n      <td>1</td>\n      <td>0</td>\n    </tr>\n    <tr>\n      <th>3</th>\n      <td>0</td>\n      <td>1</td>\n      <td>0</td>\n      <td>0</td>\n      <td>0</td>\n      <td>0</td>\n      <td>1</td>\n      <td>0</td>\n    </tr>\n    <tr>\n      <th>4</th>\n      <td>0</td>\n      <td>1</td>\n      <td>0</td>\n      <td>0</td>\n      <td>0</td>\n      <td>0</td>\n      <td>1</td>\n      <td>0</td>\n    </tr>\n    <tr>\n      <th>...</th>\n      <td>...</td>\n      <td>...</td>\n      <td>...</td>\n      <td>...</td>\n      <td>...</td>\n      <td>...</td>\n      <td>...</td>\n      <td>...</td>\n    </tr>\n    <tr>\n      <th>4995</th>\n      <td>0</td>\n      <td>1</td>\n      <td>0</td>\n      <td>0</td>\n      <td>0</td>\n      <td>0</td>\n      <td>1</td>\n      <td>1</td>\n    </tr>\n    <tr>\n      <th>4996</th>\n      <td>0</td>\n      <td>0</td>\n      <td>1</td>\n      <td>0</td>\n      <td>0</td>\n      <td>0</td>\n      <td>1</td>\n      <td>1</td>\n    </tr>\n    <tr>\n      <th>4997</th>\n      <td>0</td>\n      <td>1</td>\n      <td>0</td>\n      <td>0</td>\n      <td>0</td>\n      <td>0</td>\n      <td>1</td>\n      <td>1</td>\n    </tr>\n    <tr>\n      <th>4998</th>\n      <td>1</td>\n      <td>0</td>\n      <td>0</td>\n      <td>0</td>\n      <td>0</td>\n      <td>0</td>\n      <td>1</td>\n      <td>1</td>\n    </tr>\n    <tr>\n      <th>4999</th>\n      <td>0</td>\n      <td>0</td>\n      <td>1</td>\n      <td>0</td>\n      <td>0</td>\n      <td>0</td>\n      <td>1</td>\n      <td>1</td>\n    </tr>\n  </tbody>\n</table>\n<p>5000 rows × 8 columns</p>\n</div>"
     },
     "execution_count": 4,
     "metadata": {},
     "output_type": "execute_result"
    }
   ],
   "source": [
    "snp_rs1006737 = pd.DataFrame(columns=['rs1006737', 'score_2', 'cohort'])\n",
    "snp_rs1006737['rs1006737'] = dataset['rs1006737']\n",
    "snp_rs1006737['score_2'] = dataset['score2']\n",
    "snp_rs1006737['cohort'] = dataset['cohort']\n",
    "\n",
    "dummies_snp = pd.get_dummies(snp_rs1006737)\n",
    "dummies_snp = dummies_snp.drop(columns=['cohort_case'])\n",
    "dummies_snp"
   ],
   "metadata": {
    "collapsed": false,
    "pycharm": {
     "name": "#%%\n"
    }
   }
  },
  {
   "cell_type": "code",
   "execution_count": 5,
   "outputs": [],
   "source": [
    "#split dataset in features and target variable\n",
    "feature_cols = ['rs1006737_AA-2', 'rs1006737_AG-2', 'rs1006737_GG-2',\n",
    "                'score_2_[0.4-0.6]-2', 'score_2_[0.6-0.8]-2', 'score_2_[0.8-0.9]-2',\n",
    "                'score_2_[0.9-1.0]-2'\n",
    "                ]\n",
    "X = dummies_snp[feature_cols] # Features\n",
    "y = dummies_snp.cohort_control # Target variable"
   ],
   "metadata": {
    "collapsed": false,
    "pycharm": {
     "name": "#%%\n"
    }
   }
  },
  {
   "cell_type": "markdown",
   "source": [
    "Prediction Information:\n",
    "- Confusion Matrix\n",
    "- Precision\n",
    "- Recall\n",
    "- Error Rate\n",
    "- Accuracy"
   ],
   "metadata": {
    "collapsed": false,
    "pycharm": {
     "name": "#%% md\n"
    }
   }
  },
  {
   "cell_type": "code",
   "execution_count": 9,
   "outputs": [
    {
     "name": "stdout",
     "output_type": "stream",
     "text": [
      "SNP: rs1006737--------------------------------------------\n",
      "-------------------Confusion Matrix-----------------------\n",
      "tn: 231 fp: 171 fn: 313 tp: 285\n",
      "---------------------Metrics------------------------------\n",
      "Precision: 62.50%\n",
      "Recall: 47.66%\n",
      "Error Rate : 48.40%\n",
      "Accuracy : 51.60%\n"
     ]
    }
   ],
   "source": [
    "X_train,X_test,y_train,y_test=train_test_split(X,y,test_size=0.20)\n",
    "y_prediction = predictlogisticregression(X_train, y_train, X_test, y_test)\n",
    "\n",
    "print(\"SNP: rs1006737--------------------------------------------\")\n",
    "print(\"-------------------Confusion Matrix-----------------------\")\n",
    "print(\"tn: \"+ str(y_prediction[0, 0]) ,\"fp: \"+ str(y_prediction[0, 1])+ \" fn: \" + str(y_prediction[1, 0]) + \" tp: \" + str(y_prediction[1, 1]))\n",
    "print(\"---------------------Metrics------------------------------\")\n",
    "print(f'Precision: {y_prediction[1, 1]/(y_prediction[1, 1] + y_prediction[0, 1])*100:.2f}%')\n",
    "print(f'Recall: {y_prediction[1, 1]/(y_prediction[1, 1] + y_prediction[1, 0])*100:.2f}%')\n",
    "print(f'Error Rate : {(y_prediction[0, 1] + y_prediction[1,0])/(y_prediction[0, 0] + y_prediction[0, 1]+ y_prediction[1, 1] + y_prediction[1, 0])*100:.2f}%')\n",
    "print(f'Accuracy : {(y_prediction[0, 0] + y_prediction[1,1])/(y_prediction[0, 0] + y_prediction[0, 1]+ y_prediction[1, 1] + y_prediction[1, 0])*100:.2f}%')"
   ],
   "metadata": {
    "collapsed": false,
    "pycharm": {
     "name": "#%%\n"
    }
   }
  },
  {
   "cell_type": "markdown",
   "source": [
    "SNP rs1523041"
   ],
   "metadata": {
    "collapsed": false,
    "pycharm": {
     "name": "#%% md\n"
    }
   }
  },
  {
   "cell_type": "code",
   "execution_count": 11,
   "outputs": [],
   "source": [
    "snp_rs1523041 = pd.DataFrame(columns=['rs1523041', 'score_1', 'cohort'])\n",
    "snp_rs1523041['rs1523041'] = dataset['rs1523041']\n",
    "snp_rs1523041['score_1'] = dataset['score1']\n",
    "snp_rs1523041['cohort'] = dataset['cohort']\n",
    "\n",
    "dummies_snp_rs1523041 = pd.get_dummies(snp_rs1523041)\n",
    "dummies_snp_rs1523041 = dummies_snp_rs1523041.drop(columns=['cohort_case'])\n",
    "\n",
    "#split dataset in features and target variable\n",
    "feature_cols_rs1523041 = ['rs1523041_CC-1', 'rs1523041_CG-1', 'rs1523041_GG-1',\n",
    "                'score_1_<= 0.2-1', 'score_1_[0.2-0.4]-1', 'score_1_[0.4-0.6]-1',\n",
    "                'score_1_[0.6-0.8]-1', 'score_1_[0.8-0.9]-1', 'score_1_[0.9-1.0]-1'\n",
    "                ]\n",
    "X_rs1523041 = dummies_snp_rs1523041[feature_cols_rs1523041] # Features\n",
    "y_rs1523041 = dummies_snp_rs1523041.cohort_control # Target variable"
   ],
   "metadata": {
    "collapsed": false,
    "pycharm": {
     "name": "#%%\n"
    }
   }
  },
  {
   "cell_type": "code",
   "execution_count": 12,
   "outputs": [],
   "source": [
    "#random_seed = 888\n",
    "# split X and y into training and testing sets\n",
    "X_train_rs1523041,X_test_rs1523041,y_train_rs1523041,y_test_rs1523041=train_test_split(X,y,test_size=0.20)"
   ],
   "metadata": {
    "collapsed": false,
    "pycharm": {
     "name": "#%%\n"
    }
   }
  },
  {
   "cell_type": "code",
   "execution_count": 13,
   "outputs": [
    {
     "name": "stdout",
     "output_type": "stream",
     "text": [
      "SNP: rs1523041--------------------------------------------\n",
      "-------------------Confusion Matrix-----------------------\n",
      "tn: 223 fp: 172 fn: 315 tp: 290\n",
      "---------------------Metrics------------------------------\n",
      "Precision: 62.77%\n",
      "Recall: 47.93%\n",
      "Error Rate : 48.70%\n",
      "Accuracy : 51.30%\n"
     ]
    }
   ],
   "source": [
    "print(\"SNP: rs1523041--------------------------------------------\")\n",
    "print(\"-------------------Confusion Matrix-----------------------\")\n",
    "y_prediction_rs1523041 = predictlogisticregression(X_train_rs1523041, y_train_rs1523041, X_test_rs1523041, y_test_rs1523041)\n",
    "print(\"tn: \"+ str(y_prediction_rs1523041[0, 0]) ,\"fp: \"+ str(y_prediction_rs1523041[0, 1])+ \" fn: \" + str(y_prediction_rs1523041[1, 0]) + \" tp: \" + str(y_prediction_rs1523041[1, 1]))\n",
    "print(\"---------------------Metrics------------------------------\")\n",
    "print(f'Precision: {y_prediction_rs1523041[1, 1]/(y_prediction_rs1523041[1, 1] + y_prediction_rs1523041[0, 1])*100:.2f}%')\n",
    "print(f'Recall: {y_prediction_rs1523041[1, 1]/(y_prediction_rs1523041[1, 1] + y_prediction_rs1523041[1, 0])*100:.2f}%')\n",
    "print(f'Error Rate : {(y_prediction_rs1523041[0, 1] + y_prediction_rs1523041[1,0])/(y_prediction_rs1523041[0, 0] + y_prediction_rs1523041[0, 1]+ y_prediction_rs1523041[1, 1] + y_prediction_rs1523041[1, 0])*100:.2f}%')\n",
    "print(f'Accuracy : {(y_prediction_rs1523041[0, 0] + y_prediction_rs1523041[1,1])/(y_prediction_rs1523041[0, 0] + y_prediction_rs1523041[0, 1]+ y_prediction_rs1523041[1, 1] + y_prediction_rs1523041[1, 0])*100:.2f}%')\n"
   ],
   "metadata": {
    "collapsed": false,
    "pycharm": {
     "name": "#%%\n"
    }
   }
  },
  {
   "cell_type": "code",
   "execution_count": null,
   "outputs": [],
   "source": [],
   "metadata": {
    "collapsed": false,
    "pycharm": {
     "name": "#%%\n"
    }
   }
  }
 ],
 "metadata": {
  "kernelspec": {
   "display_name": "Python 3",
   "language": "python",
   "name": "python3"
  },
  "language_info": {
   "codemirror_mode": {
    "name": "ipython",
    "version": 2
   },
   "file_extension": ".py",
   "mimetype": "text/x-python",
   "name": "python",
   "nbconvert_exporter": "python",
   "pygments_lexer": "ipython2",
   "version": "2.7.6"
  }
 },
 "nbformat": 4,
 "nbformat_minor": 0
}