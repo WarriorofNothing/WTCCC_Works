{
 "cells": [
  {
   "cell_type": "code",
   "execution_count": 1,
   "metadata": {
    "collapsed": true
   },
   "outputs": [],
   "source": [
    "import os\n",
    "import sys\n",
    "import pandas as pb\n",
    "import seaborn as sns\n",
    "import time\n",
    "import matplotlib.pyplot as plt\n",
    "import numpy as np\n",
    "import warnings\n",
    "import glob\n",
    "from apyori import apriori\n",
    "from tqdm import tqdm_notebook as tqdm"
   ]
  },
  {
   "cell_type": "code",
   "execution_count": 2,
   "outputs": [],
   "source": [
    "#Load of the files needed for the chromosomes\n",
    "\n",
    "chromo_1 = pb.read_table(\"C:\\\\Users\\\\USER\\\\Desktop\\\\FCUP - Doutoramento\\\\PHD_Thesis_Git_Code\\\\WTCCC\\\\controls\\\\Chiamo_NBS\\\\Affx_20070205fs1_gt_NBS_Chiamo_01.txt\")\n",
    "chromo_2 = pb.read_table(\"C:\\\\Users\\\\USER\\\\Desktop\\\\FCUP - Doutoramento\\\\PHD_Thesis_Git_Code\\\\WTCCC\\\\controls\\\\Chiamo_NBS\\\\Affx_20070205fs1_gt_NBS_02.txt\")\n",
    "chromo_3 = pb.read_table(\"C:\\\\Users\\\\USER\\\\Desktop\\\\FCUP - Doutoramento\\\\PHD_Thesis_Git_Code\\\\WTCCC\\\\controls\\\\Chiamo_NBS\\\\Affx_20070205fs1_gt_NBS_03.txt\")\n",
    "chromo_4 = pb.read_table(\"C:\\\\Users\\\\USER\\\\Desktop\\\\FCUP - Doutoramento\\\\PHD_Thesis_Git_Code\\\\WTCCC\\\\controls\\\\Chiamo_NBS\\\\Affx_20070205fs1_gt_NBS_04.txt\")\n",
    "chromo_6 = pb.read_table(\"C:\\\\Users\\\\USER\\\\Desktop\\\\FCUP - Doutoramento\\\\PHD_Thesis_Git_Code\\\\WTCCC\\\\controls\\\\Chiamo_NBS\\\\Affx_20070205fs1_gt_NBS_06.txt\")\n",
    "chromo_8 = pb.read_table(\"C:\\\\Users\\\\USER\\\\Desktop\\\\FCUP - Doutoramento\\\\PHD_Thesis_Git_Code\\\\WTCCC\\\\controls\\\\Chiamo_NBS\\\\Affx_20070205fs1_gt_NBS_08.txt\")\n",
    "chromo_10 = pb.read_table(\"C:\\\\Users\\\\USER\\\\Desktop\\\\FCUP - Doutoramento\\\\PHD_Thesis_Git_Code\\\\WTCCC\\\\controls\\\\Chiamo_NBS\\\\Affx_20070205fs1_gt_NBS_10.txt\")\n",
    "chromo_12 = pb.read_table(\"C:\\\\Users\\\\USER\\\\Desktop\\\\FCUP - Doutoramento\\\\PHD_Thesis_Git_Code\\\\WTCCC\\\\controls\\\\Chiamo_NBS\\\\Affx_20070205fs1_gt_NBS_12.txt\")\n",
    "chromo_18 = pb.read_table(\"C:\\\\Users\\\\USER\\\\Desktop\\\\FCUP - Doutoramento\\\\PHD_Thesis_Git_Code\\\\WTCCC\\\\controls\\\\Chiamo_NBS\\\\Affx_20070205fs1_gt_NBS_18.txt\")\n",
    "chromo_19 = pb.read_table(\"C:\\\\Users\\\\USER\\\\Desktop\\\\FCUP - Doutoramento\\\\PHD_Thesis_Git_Code\\\\WTCCC\\\\controls\\\\Chiamo_NBS\\\\Affx_20070205fs1_gt_NBS_19.txt\")\n",
    "chromo_22 = pb.read_table(\"C:\\\\Users\\\\USER\\\\Desktop\\\\FCUP - Doutoramento\\\\PHD_Thesis_Git_Code\\\\WTCCC\\\\controls\\\\Chiamo_NBS\\\\Affx_20070205fs1_gt_NBS_22.txt\")\n",
    "\n",
    "#need to alter the files from chromosomes 1,2,8,10,18 for the scz data treatment"
   ],
   "metadata": {
    "collapsed": false,
    "pycharm": {
     "name": "#%%\n"
    }
   }
  },
  {
   "cell_type": "code",
   "execution_count": 3,
   "outputs": [],
   "source": [
    "arpp21 = chromo_3[chromo_3[\"SNP\"] == 'rs1523041']\n",
    "gabrb1 = chromo_4[chromo_4[\"SNP\"] == 'rs7680321']\n",
    "syne1 = chromo_6[chromo_6[\"SNP\"] == 'rs9371601']\n",
    "cacna1c_1006= chromo_12[chromo_12[\"SNP\"] == 'rs1006737']\n",
    "cacna1c_4765 = chromo_12[chromo_12[\"SNP\"] == 'rs4765914']\n",
    "ncan= chromo_19[chromo_19[\"SNP\"] == 'rs1064395']\n",
    "syn3 = chromo_22[chromo_22[\"SNP\"] == 'rs9621532']"
   ],
   "metadata": {
    "collapsed": false,
    "pycharm": {
     "name": "#%%\n"
    }
   }
  },
  {
   "cell_type": "code",
   "execution_count": 4,
   "outputs": [
    {
     "data": {
      "text/plain": "              patient rs1523041       score1\n11458500  WTCCC125636      CG-1  [0.9-1.0]-1\n11458506  WTCCC125637      CC-1  [0.9-1.0]-1\n11458512  WTCCC125638      CC-1  [0.9-1.0]-1\n11458518  WTCCC125639      CG-1  [0.9-1.0]-1\n11458524  WTCCC125640      CC-1  [0.9-1.0]-1\n...               ...       ...          ...\n11459964  WTCCC127809      CG-1  [0.9-1.0]-1\n11459930  WTCCC127812      CC-1  [0.9-1.0]-1\n11459934  WTCCC127814      CG-1  [0.9-1.0]-1\n11459890  WTCCC127815      CG-1  [0.9-1.0]-1\n11459911  WTCCC127817      CG-1  [0.9-1.0]-1\n\n[1500 rows x 3 columns]",
      "text/html": "<div>\n<style scoped>\n    .dataframe tbody tr th:only-of-type {\n        vertical-align: middle;\n    }\n\n    .dataframe tbody tr th {\n        vertical-align: top;\n    }\n\n    .dataframe thead th {\n        text-align: right;\n    }\n</style>\n<table border=\"1\" class=\"dataframe\">\n  <thead>\n    <tr style=\"text-align: right;\">\n      <th></th>\n      <th>patient</th>\n      <th>rs1523041</th>\n      <th>score1</th>\n    </tr>\n  </thead>\n  <tbody>\n    <tr>\n      <th>11458500</th>\n      <td>WTCCC125636</td>\n      <td>CG-1</td>\n      <td>[0.9-1.0]-1</td>\n    </tr>\n    <tr>\n      <th>11458506</th>\n      <td>WTCCC125637</td>\n      <td>CC-1</td>\n      <td>[0.9-1.0]-1</td>\n    </tr>\n    <tr>\n      <th>11458512</th>\n      <td>WTCCC125638</td>\n      <td>CC-1</td>\n      <td>[0.9-1.0]-1</td>\n    </tr>\n    <tr>\n      <th>11458518</th>\n      <td>WTCCC125639</td>\n      <td>CG-1</td>\n      <td>[0.9-1.0]-1</td>\n    </tr>\n    <tr>\n      <th>11458524</th>\n      <td>WTCCC125640</td>\n      <td>CC-1</td>\n      <td>[0.9-1.0]-1</td>\n    </tr>\n    <tr>\n      <th>...</th>\n      <td>...</td>\n      <td>...</td>\n      <td>...</td>\n    </tr>\n    <tr>\n      <th>11459964</th>\n      <td>WTCCC127809</td>\n      <td>CG-1</td>\n      <td>[0.9-1.0]-1</td>\n    </tr>\n    <tr>\n      <th>11459930</th>\n      <td>WTCCC127812</td>\n      <td>CC-1</td>\n      <td>[0.9-1.0]-1</td>\n    </tr>\n    <tr>\n      <th>11459934</th>\n      <td>WTCCC127814</td>\n      <td>CG-1</td>\n      <td>[0.9-1.0]-1</td>\n    </tr>\n    <tr>\n      <th>11459890</th>\n      <td>WTCCC127815</td>\n      <td>CG-1</td>\n      <td>[0.9-1.0]-1</td>\n    </tr>\n    <tr>\n      <th>11459911</th>\n      <td>WTCCC127817</td>\n      <td>CG-1</td>\n      <td>[0.9-1.0]-1</td>\n    </tr>\n  </tbody>\n</table>\n<p>1500 rows × 3 columns</p>\n</div>"
     },
     "execution_count": 4,
     "metadata": {},
     "output_type": "execute_result"
    }
   ],
   "source": [
    "rs1523041 = pb.DataFrame(columns=['patient','rs1523041','score_1'])\n",
    "\n",
    "rs1523041['patient'] = arpp21['Subject']\n",
    "rs1523041['rs1523041'] = arpp21['Genotype']\n",
    "rs1523041['rs1523041'] = rs1523041['rs1523041'].map({'CC': 'CC-1' , 'GG': 'GG-1', 'CG': 'CG-1'  })\n",
    "rs1523041['score_1'] = arpp21['Score']\n",
    "rs1523041['score_1'] = rs1523041['score_1'].map(str)\n",
    "\n",
    "below02 = rs1523041.score_1 <= '0.2'\n",
    "below04 = (rs1523041.score_1 > '0.2') & (rs1523041.score_1 <= '0.4')\n",
    "below06 = (rs1523041.score_1 > '0.4') & (rs1523041.score_1 <= '0.6')\n",
    "below08 = (rs1523041.score_1 > '0.6') & (rs1523041.score_1 <= '0.8')\n",
    "below09 = (rs1523041.score_1 > '0.8') & (rs1523041.score_1 <= '0.9')\n",
    "below1 = (rs1523041.score_1 > '0.9') & (rs1523041.score_1 <= '1.0')\n",
    "\n",
    "column_name = 'score1'\n",
    "rs1523041.loc[below02, column_name] = '<= 0.2-1'\n",
    "rs1523041.loc[below04, column_name] = '[0.2-0.4]-1'\n",
    "rs1523041.loc[below06, column_name] = '[0.4-0.6]-1'\n",
    "rs1523041.loc[below08, column_name] = '[0.6-0.8]-1'\n",
    "rs1523041.loc[below09, column_name] = '[0.8-0.9]-1'\n",
    "rs1523041.loc[below1, column_name] = '[0.9-1.0]-1'\n",
    "\n",
    "rs1523041_consider = pb.DataFrame(rs1523041)\n",
    "rs1523041_consider = rs1523041_consider.drop(['score_1'], axis=1)\n",
    "rs1523041_consider = rs1523041_consider.sort_values(by='patient', ascending=True)\n",
    "rs1523041_consider\n",
    "\n"
   ],
   "metadata": {
    "collapsed": false,
    "pycharm": {
     "name": "#%%\n"
    }
   }
  },
  {
   "cell_type": "code",
   "execution_count": 5,
   "outputs": [
    {
     "data": {
      "text/plain": "              patient rs7680321       score6\n13561500  WTCCC125636      CT-6  [0.9-1.0]-6\n13561506  WTCCC125637      TT-6  [0.9-1.0]-6\n13561512  WTCCC125638      TT-6  [0.9-1.0]-6\n13561518  WTCCC125639      TT-6  [0.9-1.0]-6\n13561524  WTCCC125640      CT-6  [0.9-1.0]-6\n...               ...       ...          ...\n13562964  WTCCC127809      TT-6  [0.9-1.0]-6\n13562930  WTCCC127812      TT-6  [0.9-1.0]-6\n13562934  WTCCC127814      TT-6  [0.9-1.0]-6\n13562890  WTCCC127815      TT-6  [0.9-1.0]-6\n13562911  WTCCC127817      TT-6  [0.9-1.0]-6\n\n[1500 rows x 3 columns]",
      "text/html": "<div>\n<style scoped>\n    .dataframe tbody tr th:only-of-type {\n        vertical-align: middle;\n    }\n\n    .dataframe tbody tr th {\n        vertical-align: top;\n    }\n\n    .dataframe thead th {\n        text-align: right;\n    }\n</style>\n<table border=\"1\" class=\"dataframe\">\n  <thead>\n    <tr style=\"text-align: right;\">\n      <th></th>\n      <th>patient</th>\n      <th>rs7680321</th>\n      <th>score6</th>\n    </tr>\n  </thead>\n  <tbody>\n    <tr>\n      <th>13561500</th>\n      <td>WTCCC125636</td>\n      <td>CT-6</td>\n      <td>[0.9-1.0]-6</td>\n    </tr>\n    <tr>\n      <th>13561506</th>\n      <td>WTCCC125637</td>\n      <td>TT-6</td>\n      <td>[0.9-1.0]-6</td>\n    </tr>\n    <tr>\n      <th>13561512</th>\n      <td>WTCCC125638</td>\n      <td>TT-6</td>\n      <td>[0.9-1.0]-6</td>\n    </tr>\n    <tr>\n      <th>13561518</th>\n      <td>WTCCC125639</td>\n      <td>TT-6</td>\n      <td>[0.9-1.0]-6</td>\n    </tr>\n    <tr>\n      <th>13561524</th>\n      <td>WTCCC125640</td>\n      <td>CT-6</td>\n      <td>[0.9-1.0]-6</td>\n    </tr>\n    <tr>\n      <th>...</th>\n      <td>...</td>\n      <td>...</td>\n      <td>...</td>\n    </tr>\n    <tr>\n      <th>13562964</th>\n      <td>WTCCC127809</td>\n      <td>TT-6</td>\n      <td>[0.9-1.0]-6</td>\n    </tr>\n    <tr>\n      <th>13562930</th>\n      <td>WTCCC127812</td>\n      <td>TT-6</td>\n      <td>[0.9-1.0]-6</td>\n    </tr>\n    <tr>\n      <th>13562934</th>\n      <td>WTCCC127814</td>\n      <td>TT-6</td>\n      <td>[0.9-1.0]-6</td>\n    </tr>\n    <tr>\n      <th>13562890</th>\n      <td>WTCCC127815</td>\n      <td>TT-6</td>\n      <td>[0.9-1.0]-6</td>\n    </tr>\n    <tr>\n      <th>13562911</th>\n      <td>WTCCC127817</td>\n      <td>TT-6</td>\n      <td>[0.9-1.0]-6</td>\n    </tr>\n  </tbody>\n</table>\n<p>1500 rows × 3 columns</p>\n</div>"
     },
     "execution_count": 5,
     "metadata": {},
     "output_type": "execute_result"
    }
   ],
   "source": [
    "rs7680321 = pb.DataFrame(columns=['patient','rs7680321', 'score_6'])\n",
    "\n",
    "rs7680321['patient'] = gabrb1['Subject']\n",
    "rs7680321['rs7680321'] = gabrb1['Genotype']\n",
    "rs7680321['rs7680321'] = rs7680321['rs7680321'].map({'CC': 'CC-6' , 'TT': 'TT-6', 'CT': 'CT-6'  })\n",
    "rs7680321['score_6'] = gabrb1['Score']\n",
    "rs7680321['score_6'] = rs7680321['score_6'].map(str)\n",
    "\n",
    "\n",
    "below02 = rs7680321.score_6 <= '0.2'\n",
    "below04 = (rs7680321.score_6 > '0.2') & (rs7680321.score_6 <= '0.4')\n",
    "below06 = (rs7680321.score_6 > '0.4') & (rs7680321.score_6 <= '0.6')\n",
    "below08 = (rs7680321.score_6 > '0.6') & (rs7680321.score_6 <= '0.8')\n",
    "below09 = (rs7680321.score_6 > '0.8') & (rs7680321.score_6 <= '0.9')\n",
    "below1 = (rs7680321.score_6 > '0.9') & (rs7680321.score_6 <= '1.0')\n",
    "\n",
    "column_name = 'score6'\n",
    "rs7680321.loc[below02, column_name] = '<= 0.2-6'\n",
    "rs7680321.loc[below04, column_name] = '[0.2-0.4]-6'\n",
    "rs7680321.loc[below06, column_name] = '[0.4-0.6]-6'\n",
    "rs7680321.loc[below08, column_name] = '[0.6-0.8]-6'\n",
    "rs7680321.loc[below09, column_name] = '[0.8-0.9]-6'\n",
    "rs7680321.loc[below1, column_name] = '[0.9-1.0]-6'\n",
    "\n",
    "rs7680321_consider = pb.DataFrame(rs7680321)\n",
    "rs7680321_consider = rs7680321_consider.drop(['score_6'], axis=1)\n",
    "rs7680321_consider = rs7680321_consider.sort_values(by='patient', ascending=True)\n",
    "rs7680321_consider"
   ],
   "metadata": {
    "collapsed": false,
    "pycharm": {
     "name": "#%%\n"
    }
   }
  },
  {
   "cell_type": "code",
   "execution_count": 6,
   "outputs": [
    {
     "data": {
      "text/plain": "              patient rs9371601       score4\n41433000  WTCCC125636      GG-4  [0.9-1.0]-4\n41433006  WTCCC125637      GT-4  [0.9-1.0]-4\n41433012  WTCCC125638      GG-4  [0.9-1.0]-4\n41433018  WTCCC125639      GG-4  [0.9-1.0]-4\n41433024  WTCCC125640      GT-4  [0.9-1.0]-4\n...               ...       ...          ...\n41434464  WTCCC127809      GT-4  [0.9-1.0]-4\n41434430  WTCCC127812      GG-4  [0.9-1.0]-4\n41434434  WTCCC127814      GG-4  [0.9-1.0]-4\n41434390  WTCCC127815      GT-4  [0.9-1.0]-4\n41434411  WTCCC127817      GT-4  [0.9-1.0]-4\n\n[1500 rows x 3 columns]",
      "text/html": "<div>\n<style scoped>\n    .dataframe tbody tr th:only-of-type {\n        vertical-align: middle;\n    }\n\n    .dataframe tbody tr th {\n        vertical-align: top;\n    }\n\n    .dataframe thead th {\n        text-align: right;\n    }\n</style>\n<table border=\"1\" class=\"dataframe\">\n  <thead>\n    <tr style=\"text-align: right;\">\n      <th></th>\n      <th>patient</th>\n      <th>rs9371601</th>\n      <th>score4</th>\n    </tr>\n  </thead>\n  <tbody>\n    <tr>\n      <th>41433000</th>\n      <td>WTCCC125636</td>\n      <td>GG-4</td>\n      <td>[0.9-1.0]-4</td>\n    </tr>\n    <tr>\n      <th>41433006</th>\n      <td>WTCCC125637</td>\n      <td>GT-4</td>\n      <td>[0.9-1.0]-4</td>\n    </tr>\n    <tr>\n      <th>41433012</th>\n      <td>WTCCC125638</td>\n      <td>GG-4</td>\n      <td>[0.9-1.0]-4</td>\n    </tr>\n    <tr>\n      <th>41433018</th>\n      <td>WTCCC125639</td>\n      <td>GG-4</td>\n      <td>[0.9-1.0]-4</td>\n    </tr>\n    <tr>\n      <th>41433024</th>\n      <td>WTCCC125640</td>\n      <td>GT-4</td>\n      <td>[0.9-1.0]-4</td>\n    </tr>\n    <tr>\n      <th>...</th>\n      <td>...</td>\n      <td>...</td>\n      <td>...</td>\n    </tr>\n    <tr>\n      <th>41434464</th>\n      <td>WTCCC127809</td>\n      <td>GT-4</td>\n      <td>[0.9-1.0]-4</td>\n    </tr>\n    <tr>\n      <th>41434430</th>\n      <td>WTCCC127812</td>\n      <td>GG-4</td>\n      <td>[0.9-1.0]-4</td>\n    </tr>\n    <tr>\n      <th>41434434</th>\n      <td>WTCCC127814</td>\n      <td>GG-4</td>\n      <td>[0.9-1.0]-4</td>\n    </tr>\n    <tr>\n      <th>41434390</th>\n      <td>WTCCC127815</td>\n      <td>GT-4</td>\n      <td>[0.9-1.0]-4</td>\n    </tr>\n    <tr>\n      <th>41434411</th>\n      <td>WTCCC127817</td>\n      <td>GT-4</td>\n      <td>[0.9-1.0]-4</td>\n    </tr>\n  </tbody>\n</table>\n<p>1500 rows × 3 columns</p>\n</div>"
     },
     "execution_count": 6,
     "metadata": {},
     "output_type": "execute_result"
    }
   ],
   "source": [
    "rs9371601 = pb.DataFrame(columns=['patient','rs9371601', 'score_4'])\n",
    "\n",
    "rs9371601['patient'] = syne1['Subject']\n",
    "rs9371601['rs9371601'] = syne1['Genotype']\n",
    "rs9371601['rs9371601'] = rs9371601['rs9371601'].map({'GG': 'GG-4' , 'TT': 'TT-4', 'GT': 'GT-4'  })\n",
    "rs9371601['score_4'] = syne1['Score']\n",
    "rs9371601['score_4'] = rs9371601['score_4'].map(str)\n",
    "\n",
    "\n",
    "below02 = rs9371601.score_4 <= '0.2'\n",
    "below04 = (rs9371601.score_4 > '0.2') & (rs9371601.score_4 <= '0.4')\n",
    "below06 = (rs9371601.score_4 > '0.4') & (rs9371601.score_4 <= '0.6')\n",
    "below08 = (rs9371601.score_4 > '0.6') & (rs9371601.score_4 <= '0.8')\n",
    "below09 = (rs9371601.score_4 > '0.8') & (rs9371601.score_4 <= '0.9')\n",
    "below1 = (rs9371601.score_4 > '0.9') & (rs9371601.score_4 <= '1.0')\n",
    "\n",
    "column_name = 'score4'\n",
    "rs9371601.loc[below02, column_name] = '<= 0.2-4'\n",
    "rs9371601.loc[below04, column_name] = '[0.2-0.4]-4'\n",
    "rs9371601.loc[below06, column_name] = '[0.4-0.6]-4'\n",
    "rs9371601.loc[below08, column_name] = '[0.6-0.8]-4'\n",
    "rs9371601.loc[below09, column_name] = '[0.8-0.9]-4'\n",
    "rs9371601.loc[below1, column_name] = '[0.9-1.0]-4'\n",
    "\n",
    "rs9371601_consider = pb.DataFrame(rs9371601)\n",
    "rs9371601_consider = rs9371601_consider.drop(['score_4'], axis=1)\n",
    "rs9371601_consider = rs9371601_consider.sort_values(by='patient', ascending=True)\n",
    "rs9371601_consider"
   ],
   "metadata": {
    "collapsed": false,
    "pycharm": {
     "name": "#%%\n"
    }
   }
  },
  {
   "cell_type": "code",
   "execution_count": 9,
   "outputs": [
    {
     "data": {
      "text/plain": "            patient rs1006737       score2\n600000  WTCCC125636      AG-2  [0.9-1.0]-2\n600006  WTCCC125637      AG-2  [0.9-1.0]-2\n600012  WTCCC125638      AG-2  [0.9-1.0]-2\n600018  WTCCC125639      GG-2  [0.9-1.0]-2\n600024  WTCCC125640      AG-2  [0.9-1.0]-2\n...             ...       ...          ...\n601464  WTCCC127809      AG-2  [0.9-1.0]-2\n601430  WTCCC127812      GG-2  [0.9-1.0]-2\n601434  WTCCC127814      AG-2  [0.9-1.0]-2\n601390  WTCCC127815      AA-2  [0.9-1.0]-2\n601411  WTCCC127817      GG-2  [0.9-1.0]-2\n\n[1500 rows x 3 columns]",
      "text/html": "<div>\n<style scoped>\n    .dataframe tbody tr th:only-of-type {\n        vertical-align: middle;\n    }\n\n    .dataframe tbody tr th {\n        vertical-align: top;\n    }\n\n    .dataframe thead th {\n        text-align: right;\n    }\n</style>\n<table border=\"1\" class=\"dataframe\">\n  <thead>\n    <tr style=\"text-align: right;\">\n      <th></th>\n      <th>patient</th>\n      <th>rs1006737</th>\n      <th>score2</th>\n    </tr>\n  </thead>\n  <tbody>\n    <tr>\n      <th>600000</th>\n      <td>WTCCC125636</td>\n      <td>AG-2</td>\n      <td>[0.9-1.0]-2</td>\n    </tr>\n    <tr>\n      <th>600006</th>\n      <td>WTCCC125637</td>\n      <td>AG-2</td>\n      <td>[0.9-1.0]-2</td>\n    </tr>\n    <tr>\n      <th>600012</th>\n      <td>WTCCC125638</td>\n      <td>AG-2</td>\n      <td>[0.9-1.0]-2</td>\n    </tr>\n    <tr>\n      <th>600018</th>\n      <td>WTCCC125639</td>\n      <td>GG-2</td>\n      <td>[0.9-1.0]-2</td>\n    </tr>\n    <tr>\n      <th>600024</th>\n      <td>WTCCC125640</td>\n      <td>AG-2</td>\n      <td>[0.9-1.0]-2</td>\n    </tr>\n    <tr>\n      <th>...</th>\n      <td>...</td>\n      <td>...</td>\n      <td>...</td>\n    </tr>\n    <tr>\n      <th>601464</th>\n      <td>WTCCC127809</td>\n      <td>AG-2</td>\n      <td>[0.9-1.0]-2</td>\n    </tr>\n    <tr>\n      <th>601430</th>\n      <td>WTCCC127812</td>\n      <td>GG-2</td>\n      <td>[0.9-1.0]-2</td>\n    </tr>\n    <tr>\n      <th>601434</th>\n      <td>WTCCC127814</td>\n      <td>AG-2</td>\n      <td>[0.9-1.0]-2</td>\n    </tr>\n    <tr>\n      <th>601390</th>\n      <td>WTCCC127815</td>\n      <td>AA-2</td>\n      <td>[0.9-1.0]-2</td>\n    </tr>\n    <tr>\n      <th>601411</th>\n      <td>WTCCC127817</td>\n      <td>GG-2</td>\n      <td>[0.9-1.0]-2</td>\n    </tr>\n  </tbody>\n</table>\n<p>1500 rows × 3 columns</p>\n</div>"
     },
     "execution_count": 9,
     "metadata": {},
     "output_type": "execute_result"
    }
   ],
   "source": [
    "rs1006737 = pb.DataFrame(columns=['patient','rs1006737', 'score_2'])\n",
    "\n",
    "rs1006737['patient'] = cacna1c_1006['Subject']\n",
    "rs1006737['rs1006737'] = cacna1c_1006['Genotype']\n",
    "rs1006737['rs1006737'] = rs1006737['rs1006737'].map({'GG': 'GG-2' , 'AA': 'AA-2', 'AG': 'AG-2'})\n",
    "rs1006737['score_2'] = cacna1c_1006['Score']\n",
    "rs1006737['score_2'] = rs1006737['score_2'].map(str)\n",
    "\n",
    "\n",
    "\n",
    "below02 = rs1006737.score_2 <= '0.2'\n",
    "below04 = (rs1006737.score_2 > '0.2') & (rs1006737.score_2 <= '0.4')\n",
    "below06 = (rs1006737.score_2 > '0.4') & (rs1006737.score_2 <= '0.6')\n",
    "below08 = (rs1006737.score_2 > '0.6') & (rs1006737.score_2 <= '0.8')\n",
    "below09 = (rs1006737.score_2 > '0.8') & (rs1006737.score_2 <= '0.9')\n",
    "below1 = (rs1006737.score_2 > '0.9') & (rs1006737.score_2 <= '1.0')\n",
    "\n",
    "column_name = 'score2'\n",
    "rs1006737.loc[below02, column_name] = '<= 0.2-2'\n",
    "rs1006737.loc[below04, column_name] = '[0.2-0.4]-2'\n",
    "rs1006737.loc[below06, column_name] = '[0.4-0.6]-2'\n",
    "rs1006737.loc[below08, column_name] = '[0.6-0.8]-2'\n",
    "rs1006737.loc[below09, column_name] = '[0.8-0.9]-2'\n",
    "rs1006737.loc[below1, column_name] = '[0.9-1.0]-2'\n",
    "\n",
    "rs1006737_consider = pb.DataFrame(rs1006737)\n",
    "rs1006737_consider = rs1006737_consider.drop(['score_2'], axis=1)\n",
    "rs1006737_consider = rs1006737_consider.sort_values(by='patient', ascending=True)\n",
    "rs1006737_consider"
   ],
   "metadata": {
    "collapsed": false,
    "pycharm": {
     "name": "#%%\n"
    }
   }
  },
  {
   "cell_type": "code",
   "execution_count": 11,
   "outputs": [
    {
     "data": {
      "text/plain": "            patient rs4765914       score3\n610500  WTCCC125636      CC-3  [0.9-1.0]-3\n610506  WTCCC125637      CC-3  [0.9-1.0]-3\n610512  WTCCC125638      CT-3  [0.9-1.0]-3\n610518  WTCCC125639      CC-3  [0.9-1.0]-3\n610524  WTCCC125640      CT-3  [0.9-1.0]-3\n...             ...       ...          ...\n611964  WTCCC127809      CT-3  [0.9-1.0]-3\n611930  WTCCC127812      CC-3  [0.9-1.0]-3\n611934  WTCCC127814      CC-3  [0.9-1.0]-3\n611890  WTCCC127815      TT-3  [0.9-1.0]-3\n611911  WTCCC127817      CC-3  [0.9-1.0]-3\n\n[1500 rows x 3 columns]",
      "text/html": "<div>\n<style scoped>\n    .dataframe tbody tr th:only-of-type {\n        vertical-align: middle;\n    }\n\n    .dataframe tbody tr th {\n        vertical-align: top;\n    }\n\n    .dataframe thead th {\n        text-align: right;\n    }\n</style>\n<table border=\"1\" class=\"dataframe\">\n  <thead>\n    <tr style=\"text-align: right;\">\n      <th></th>\n      <th>patient</th>\n      <th>rs4765914</th>\n      <th>score3</th>\n    </tr>\n  </thead>\n  <tbody>\n    <tr>\n      <th>610500</th>\n      <td>WTCCC125636</td>\n      <td>CC-3</td>\n      <td>[0.9-1.0]-3</td>\n    </tr>\n    <tr>\n      <th>610506</th>\n      <td>WTCCC125637</td>\n      <td>CC-3</td>\n      <td>[0.9-1.0]-3</td>\n    </tr>\n    <tr>\n      <th>610512</th>\n      <td>WTCCC125638</td>\n      <td>CT-3</td>\n      <td>[0.9-1.0]-3</td>\n    </tr>\n    <tr>\n      <th>610518</th>\n      <td>WTCCC125639</td>\n      <td>CC-3</td>\n      <td>[0.9-1.0]-3</td>\n    </tr>\n    <tr>\n      <th>610524</th>\n      <td>WTCCC125640</td>\n      <td>CT-3</td>\n      <td>[0.9-1.0]-3</td>\n    </tr>\n    <tr>\n      <th>...</th>\n      <td>...</td>\n      <td>...</td>\n      <td>...</td>\n    </tr>\n    <tr>\n      <th>611964</th>\n      <td>WTCCC127809</td>\n      <td>CT-3</td>\n      <td>[0.9-1.0]-3</td>\n    </tr>\n    <tr>\n      <th>611930</th>\n      <td>WTCCC127812</td>\n      <td>CC-3</td>\n      <td>[0.9-1.0]-3</td>\n    </tr>\n    <tr>\n      <th>611934</th>\n      <td>WTCCC127814</td>\n      <td>CC-3</td>\n      <td>[0.9-1.0]-3</td>\n    </tr>\n    <tr>\n      <th>611890</th>\n      <td>WTCCC127815</td>\n      <td>TT-3</td>\n      <td>[0.9-1.0]-3</td>\n    </tr>\n    <tr>\n      <th>611911</th>\n      <td>WTCCC127817</td>\n      <td>CC-3</td>\n      <td>[0.9-1.0]-3</td>\n    </tr>\n  </tbody>\n</table>\n<p>1500 rows × 3 columns</p>\n</div>"
     },
     "execution_count": 11,
     "metadata": {},
     "output_type": "execute_result"
    }
   ],
   "source": [
    "rs4765914 = pb.DataFrame(columns=['patient','rs4765914', 'score_3'])\n",
    "\n",
    "rs4765914['patient'] = cacna1c_4765['Subject']\n",
    "rs4765914['rs4765914'] = cacna1c_4765['Genotype']\n",
    "rs4765914['rs4765914'] = rs4765914['rs4765914'].map({'TT': 'TT-3' , 'CC': 'CC-3', 'CT': 'CT-3'  })\n",
    "rs4765914['score_3'] = cacna1c_4765['Score']\n",
    "rs4765914['score_3'] = rs4765914['score_3'].map(str)\n",
    "\n",
    "\n",
    "\n",
    "below02 = rs4765914.score_3 <= '0.2'\n",
    "below04 = (rs4765914.score_3 > '0.2') & (rs4765914.score_3 <= '0.4')\n",
    "below06 = (rs4765914.score_3 > '0.4') & (rs4765914.score_3 <= '0.6')\n",
    "below08 = (rs4765914.score_3 > '0.6') & (rs4765914.score_3 <= '0.8')\n",
    "below09 = (rs4765914.score_3 > '0.8') & (rs4765914.score_3 <= '0.9')\n",
    "below1 = (rs4765914.score_3 > '0.9') & (rs4765914.score_3 <= '1.0')\n",
    "\n",
    "column_name = 'score3'\n",
    "rs4765914.loc[below02, column_name] = '<= 0.2-3'\n",
    "rs4765914.loc[below04, column_name] = '[0.2-0.4]-3'\n",
    "rs4765914.loc[below06, column_name] = '[0.4-0.6]-3'\n",
    "rs4765914.loc[below08, column_name] = '[0.6-0.8]-3'\n",
    "rs4765914.loc[below09, column_name] = '[0.8-0.9]-3'\n",
    "rs4765914.loc[below1, column_name] = '[0.9-1.0]-3'\n",
    "\n",
    "rs4765914_consider = pb.DataFrame(rs4765914)\n",
    "rs4765914_consider = rs4765914_consider.drop(['score_3'], axis=1)\n",
    "rs4765914_consider = rs4765914_consider.sort_values(by='patient', ascending=True)\n",
    "rs4765914_consider"
   ],
   "metadata": {
    "collapsed": false,
    "pycharm": {
     "name": "#%%\n"
    }
   }
  },
  {
   "cell_type": "code",
   "execution_count": 13,
   "outputs": [
    {
     "data": {
      "text/plain": "             patient rs1064395       score5\n2568000  WTCCC125636      GG-5  [0.9-1.0]-5\n2568006  WTCCC125637      GG-5  [0.9-1.0]-5\n2568012  WTCCC125638      AG-5  [0.9-1.0]-5\n2568018  WTCCC125639      GG-5  [0.9-1.0]-5\n2568024  WTCCC125640      GG-5  [0.9-1.0]-5\n...              ...       ...          ...\n2569464  WTCCC127809      GG-5  [0.9-1.0]-5\n2569430  WTCCC127812      GG-5  [0.9-1.0]-5\n2569434  WTCCC127814      GG-5  [0.9-1.0]-5\n2569390  WTCCC127815      GG-5  [0.9-1.0]-5\n2569411  WTCCC127817      GG-5  [0.9-1.0]-5\n\n[1500 rows x 3 columns]",
      "text/html": "<div>\n<style scoped>\n    .dataframe tbody tr th:only-of-type {\n        vertical-align: middle;\n    }\n\n    .dataframe tbody tr th {\n        vertical-align: top;\n    }\n\n    .dataframe thead th {\n        text-align: right;\n    }\n</style>\n<table border=\"1\" class=\"dataframe\">\n  <thead>\n    <tr style=\"text-align: right;\">\n      <th></th>\n      <th>patient</th>\n      <th>rs1064395</th>\n      <th>score5</th>\n    </tr>\n  </thead>\n  <tbody>\n    <tr>\n      <th>2568000</th>\n      <td>WTCCC125636</td>\n      <td>GG-5</td>\n      <td>[0.9-1.0]-5</td>\n    </tr>\n    <tr>\n      <th>2568006</th>\n      <td>WTCCC125637</td>\n      <td>GG-5</td>\n      <td>[0.9-1.0]-5</td>\n    </tr>\n    <tr>\n      <th>2568012</th>\n      <td>WTCCC125638</td>\n      <td>AG-5</td>\n      <td>[0.9-1.0]-5</td>\n    </tr>\n    <tr>\n      <th>2568018</th>\n      <td>WTCCC125639</td>\n      <td>GG-5</td>\n      <td>[0.9-1.0]-5</td>\n    </tr>\n    <tr>\n      <th>2568024</th>\n      <td>WTCCC125640</td>\n      <td>GG-5</td>\n      <td>[0.9-1.0]-5</td>\n    </tr>\n    <tr>\n      <th>...</th>\n      <td>...</td>\n      <td>...</td>\n      <td>...</td>\n    </tr>\n    <tr>\n      <th>2569464</th>\n      <td>WTCCC127809</td>\n      <td>GG-5</td>\n      <td>[0.9-1.0]-5</td>\n    </tr>\n    <tr>\n      <th>2569430</th>\n      <td>WTCCC127812</td>\n      <td>GG-5</td>\n      <td>[0.9-1.0]-5</td>\n    </tr>\n    <tr>\n      <th>2569434</th>\n      <td>WTCCC127814</td>\n      <td>GG-5</td>\n      <td>[0.9-1.0]-5</td>\n    </tr>\n    <tr>\n      <th>2569390</th>\n      <td>WTCCC127815</td>\n      <td>GG-5</td>\n      <td>[0.9-1.0]-5</td>\n    </tr>\n    <tr>\n      <th>2569411</th>\n      <td>WTCCC127817</td>\n      <td>GG-5</td>\n      <td>[0.9-1.0]-5</td>\n    </tr>\n  </tbody>\n</table>\n<p>1500 rows × 3 columns</p>\n</div>"
     },
     "execution_count": 13,
     "metadata": {},
     "output_type": "execute_result"
    }
   ],
   "source": [
    "rs1064395 = pb.DataFrame(columns=['patient','rs1064395', 'score_5'])\n",
    "\n",
    "rs1064395['patient'] = ncan['Subject']\n",
    "rs1064395['rs1064395'] = ncan['Genotype']\n",
    "rs1064395['rs1064395'] = rs1064395['rs1064395'].map({'AA': 'AA-5' , 'GG': 'GG-5', 'AG': 'AG-5'  })\n",
    "rs1064395['score_5'] = ncan['Score']\n",
    "rs1064395['score_5'] = rs1064395['score_5'].map(str)\n",
    "\n",
    "below02 = rs1064395.score_5 <= '0.2'\n",
    "below04 = (rs1064395.score_5 > '0.2') & (rs1064395.score_5 <= '0.4')\n",
    "below06 = (rs1064395.score_5 > '0.4') & (rs1064395.score_5 <= '0.6')\n",
    "below08 = (rs1064395.score_5 > '0.6') & (rs1064395.score_5 <= '0.8')\n",
    "below09 = (rs1064395.score_5 > '0.8') & (rs1064395.score_5 <= '0.9')\n",
    "below1 = (rs1064395.score_5 > '0.9') & (rs1064395.score_5 <= '1.0')\n",
    "\n",
    "column_name = 'score5'\n",
    "rs1064395.loc[below02, column_name] = '<= 0.2-5'\n",
    "rs1064395.loc[below04, column_name] = '[0.2-0.4]-5'\n",
    "rs1064395.loc[below06, column_name] = '[0.4-0.6]-5'\n",
    "rs1064395.loc[below08, column_name] = '[0.6-0.8]-5'\n",
    "rs1064395.loc[below09, column_name] = '[0.8-0.9]-5'\n",
    "rs1064395.loc[below1, column_name] = '[0.9-1.0]-5'\n",
    "\n",
    "\n",
    "rs1064395_consider = pb.DataFrame(rs1064395)\n",
    "rs1064395_consider = rs1064395_consider.drop(['score_5'], axis=1)\n",
    "rs1064395_consider = rs1064395_consider.sort_values(by='patient', ascending=True)\n",
    "rs1064395_consider"
   ],
   "metadata": {
    "collapsed": false,
    "pycharm": {
     "name": "#%%\n"
    }
   }
  },
  {
   "cell_type": "code",
   "execution_count": 14,
   "outputs": [
    {
     "data": {
      "text/plain": "             patient rs9621532       score7\n4141500  WTCCC125636      AA-7  [0.9-1.0]-7\n4141506  WTCCC125637      AA-7  [0.9-1.0]-7\n4141512  WTCCC125638      AA-7  [0.9-1.0]-7\n4141518  WTCCC125639      AA-7  [0.9-1.0]-7\n4141524  WTCCC125640      AA-7  [0.9-1.0]-7\n...              ...       ...          ...\n4142964  WTCCC127809      AA-7  [0.9-1.0]-7\n4142930  WTCCC127812      AA-7  [0.9-1.0]-7\n4142934  WTCCC127814      AA-7  [0.9-1.0]-7\n4142890  WTCCC127815      AA-7  [0.9-1.0]-7\n4142911  WTCCC127817      AC-7  [0.9-1.0]-7\n\n[1500 rows x 3 columns]",
      "text/html": "<div>\n<style scoped>\n    .dataframe tbody tr th:only-of-type {\n        vertical-align: middle;\n    }\n\n    .dataframe tbody tr th {\n        vertical-align: top;\n    }\n\n    .dataframe thead th {\n        text-align: right;\n    }\n</style>\n<table border=\"1\" class=\"dataframe\">\n  <thead>\n    <tr style=\"text-align: right;\">\n      <th></th>\n      <th>patient</th>\n      <th>rs9621532</th>\n      <th>score7</th>\n    </tr>\n  </thead>\n  <tbody>\n    <tr>\n      <th>4141500</th>\n      <td>WTCCC125636</td>\n      <td>AA-7</td>\n      <td>[0.9-1.0]-7</td>\n    </tr>\n    <tr>\n      <th>4141506</th>\n      <td>WTCCC125637</td>\n      <td>AA-7</td>\n      <td>[0.9-1.0]-7</td>\n    </tr>\n    <tr>\n      <th>4141512</th>\n      <td>WTCCC125638</td>\n      <td>AA-7</td>\n      <td>[0.9-1.0]-7</td>\n    </tr>\n    <tr>\n      <th>4141518</th>\n      <td>WTCCC125639</td>\n      <td>AA-7</td>\n      <td>[0.9-1.0]-7</td>\n    </tr>\n    <tr>\n      <th>4141524</th>\n      <td>WTCCC125640</td>\n      <td>AA-7</td>\n      <td>[0.9-1.0]-7</td>\n    </tr>\n    <tr>\n      <th>...</th>\n      <td>...</td>\n      <td>...</td>\n      <td>...</td>\n    </tr>\n    <tr>\n      <th>4142964</th>\n      <td>WTCCC127809</td>\n      <td>AA-7</td>\n      <td>[0.9-1.0]-7</td>\n    </tr>\n    <tr>\n      <th>4142930</th>\n      <td>WTCCC127812</td>\n      <td>AA-7</td>\n      <td>[0.9-1.0]-7</td>\n    </tr>\n    <tr>\n      <th>4142934</th>\n      <td>WTCCC127814</td>\n      <td>AA-7</td>\n      <td>[0.9-1.0]-7</td>\n    </tr>\n    <tr>\n      <th>4142890</th>\n      <td>WTCCC127815</td>\n      <td>AA-7</td>\n      <td>[0.9-1.0]-7</td>\n    </tr>\n    <tr>\n      <th>4142911</th>\n      <td>WTCCC127817</td>\n      <td>AC-7</td>\n      <td>[0.9-1.0]-7</td>\n    </tr>\n  </tbody>\n</table>\n<p>1500 rows × 3 columns</p>\n</div>"
     },
     "execution_count": 14,
     "metadata": {},
     "output_type": "execute_result"
    }
   ],
   "source": [
    "rs9621532 = pb.DataFrame(columns=['patient','rs9621532', 'score_7'])\n",
    "\n",
    "rs9621532['patient'] = syn3['Subject']\n",
    "rs9621532['rs9621532'] = syn3['Genotype']\n",
    "rs9621532['rs9621532'] = rs9621532['rs9621532'].map({'AA': 'AA-7' , 'CC': 'CC-7', 'AC': 'AC-7'  })\n",
    "rs9621532['score_7'] = syn3['Score']\n",
    "rs9621532['score_7'] = rs9621532['score_7'].map(str)\n",
    "\n",
    "below02 = rs9621532.score_7 <= '0.2'\n",
    "below04 = (rs9621532.score_7 > '0.2') & (rs9621532.score_7 <= '0.4')\n",
    "below06 = (rs9621532.score_7 > '0.4') & (rs9621532.score_7 <= '0.6')\n",
    "below08 = (rs9621532.score_7 > '0.6') & (rs9621532.score_7 <= '0.8')\n",
    "below09 = (rs9621532.score_7 > '0.8') & (rs9621532.score_7 <= '0.9')\n",
    "below1 = (rs9621532.score_7 > '0.9') & (rs9621532.score_7 <= '1.0')\n",
    "\n",
    "\n",
    "column_name = 'score7'\n",
    "rs9621532.loc[below02, column_name] = '<= 0.2-7'\n",
    "rs9621532.loc[below04, column_name] = '[0.2-0.4]-7'\n",
    "rs9621532.loc[below06, column_name] = '[0.4-0.6]-7'\n",
    "rs9621532.loc[below08, column_name] = '[0.6-0.8]-7'\n",
    "rs9621532.loc[below09, column_name] = '[0.8-0.9]-7'\n",
    "rs9621532.loc[below1, column_name] = '[0.9-1.0]-7'\n",
    "\n",
    "rs9621532_consider = pb.DataFrame(rs9621532)\n",
    "rs9621532_consider = rs9621532_consider.drop(['score_7'], axis=1)\n",
    "rs9621532_consider = rs9621532_consider.sort_values(by='patient', ascending=True)\n",
    "rs9621532_consider\n"
   ],
   "metadata": {
    "collapsed": false,
    "pycharm": {
     "name": "#%%\n"
    }
   }
  },
  {
   "cell_type": "code",
   "execution_count": 15,
   "outputs": [],
   "source": [
    "dataset_clinical = \"C:\\\\Users\\\\USER\\\\Desktop\\\\FCUP - Doutoramento\\\\PHD_Thesis_Git_Code\\\\WTCCC\\\\controls\\\\Chiamo_NBS\\\\Affx_sample_NBS.txt\"\n",
    "data_clinical = pb.read_table(dataset_clinical, encoding='utf-8', header=0)"
   ],
   "metadata": {
    "collapsed": false,
    "pycharm": {
     "name": "#%%\n"
    }
   }
  },
  {
   "cell_type": "code",
   "execution_count": 16,
   "outputs": [
    {
     "data": {
      "text/plain": "      Age        Region  Gender\n0       5  Southeastern       1\n6       5  Southeastern       1\n12      3       Eastern       1\n18      6      Southern       2\n24      3  Southeastern       2\n...   ...           ...     ...\n1467    5      Scotland       2\n1431    3      Scotland       1\n1435    5      Scotland       2\n1393    3      Scotland       1\n1414    2      Scotland       2\n\n[1500 rows x 3 columns]",
      "text/html": "<div>\n<style scoped>\n    .dataframe tbody tr th:only-of-type {\n        vertical-align: middle;\n    }\n\n    .dataframe tbody tr th {\n        vertical-align: top;\n    }\n\n    .dataframe thead th {\n        text-align: right;\n    }\n</style>\n<table border=\"1\" class=\"dataframe\">\n  <thead>\n    <tr style=\"text-align: right;\">\n      <th></th>\n      <th>Age</th>\n      <th>Region</th>\n      <th>Gender</th>\n    </tr>\n  </thead>\n  <tbody>\n    <tr>\n      <th>0</th>\n      <td>5</td>\n      <td>Southeastern</td>\n      <td>1</td>\n    </tr>\n    <tr>\n      <th>6</th>\n      <td>5</td>\n      <td>Southeastern</td>\n      <td>1</td>\n    </tr>\n    <tr>\n      <th>12</th>\n      <td>3</td>\n      <td>Eastern</td>\n      <td>1</td>\n    </tr>\n    <tr>\n      <th>18</th>\n      <td>6</td>\n      <td>Southern</td>\n      <td>2</td>\n    </tr>\n    <tr>\n      <th>24</th>\n      <td>3</td>\n      <td>Southeastern</td>\n      <td>2</td>\n    </tr>\n    <tr>\n      <th>...</th>\n      <td>...</td>\n      <td>...</td>\n      <td>...</td>\n    </tr>\n    <tr>\n      <th>1467</th>\n      <td>5</td>\n      <td>Scotland</td>\n      <td>2</td>\n    </tr>\n    <tr>\n      <th>1431</th>\n      <td>3</td>\n      <td>Scotland</td>\n      <td>1</td>\n    </tr>\n    <tr>\n      <th>1435</th>\n      <td>5</td>\n      <td>Scotland</td>\n      <td>2</td>\n    </tr>\n    <tr>\n      <th>1393</th>\n      <td>3</td>\n      <td>Scotland</td>\n      <td>1</td>\n    </tr>\n    <tr>\n      <th>1414</th>\n      <td>2</td>\n      <td>Scotland</td>\n      <td>2</td>\n    </tr>\n  </tbody>\n</table>\n<p>1500 rows × 3 columns</p>\n</div>"
     },
     "execution_count": 16,
     "metadata": {},
     "output_type": "execute_result"
    }
   ],
   "source": [
    "data_demo = data_clinical.sort_values(\"#sample\")\n",
    "\n",
    "df_clinical = pb.DataFrame(columns=['Age','Region','Gender'])\n",
    "df_clinical['Age'] = data_demo['age_recruitment']\n",
    "df_clinical['Region'] = data_demo['region']\n",
    "df_clinical['Gender'] = data_demo['gender']\n",
    "\n",
    "\n",
    "df_clinical"
   ],
   "metadata": {
    "collapsed": false,
    "pycharm": {
     "name": "#%%\n"
    }
   }
  },
  {
   "cell_type": "code",
   "execution_count": 17,
   "outputs": [],
   "source": [
    "merge_dataset = rs1523041_consider.merge(rs1006737_consider).merge(rs4765914_consider).merge(rs9371601_consider).merge(rs1064395_consider).merge(rs7680321_consider).merge(rs9621532_consider)"
   ],
   "metadata": {
    "collapsed": false,
    "pycharm": {
     "name": "#%%\n"
    }
   }
  },
  {
   "cell_type": "code",
   "execution_count": 18,
   "outputs": [],
   "source": [
    "merge_dataset['Age'] = df_clinical['Age']\n",
    "merge_dataset['Region'] = df_clinical['Region']\n",
    "merge_dataset['Gender'] = df_clinical['Gender']\n",
    "merge_dataset['cohort'] = 'control'\n",
    "merge_dataset['Gender'] =merge_dataset['Gender'].map({1: 'male' , 2: 'female'})"
   ],
   "metadata": {
    "collapsed": false,
    "pycharm": {
     "name": "#%%\n"
    }
   }
  },
  {
   "cell_type": "code",
   "execution_count": 20,
   "outputs": [
    {
     "data": {
      "text/plain": "         patient rs1523041       score1 rs1006737       score2 rs4765914  \\\n0     WTCCC65841      GG-1  [0.9-1.0]-1      AG-2  [0.9-1.0]-2      CT-3   \n1     WTCCC65569      CG-1  [0.9-1.0]-1      AG-2  [0.9-1.0]-2      CT-3   \n2     WTCCC65777      CG-1  [0.9-1.0]-1      AG-2  [0.9-1.0]-2      CC-3   \n3     WTCCC65795      GG-1  [0.9-1.0]-1      AG-2  [0.9-1.0]-2      CC-3   \n4     WTCCC65810      CG-1  [0.9-1.0]-1      AG-2  [0.9-1.0]-2      CT-3   \n...          ...       ...          ...       ...          ...       ...   \n3495  WTCCC89356      CG-1  [0.9-1.0]-1      AG-2  [0.9-1.0]-2      CT-3   \n3496  WTCCC89359      CG-1  [0.9-1.0]-1      AG-2  [0.9-1.0]-2      CC-3   \n3497  WTCCC89360      CG-1  [0.9-1.0]-1      AG-2  [0.9-1.0]-2      CT-3   \n3498  WTCCC89361      CC-1  [0.9-1.0]-1      AG-2  [0.9-1.0]-2      CT-3   \n3499  WTCCC89363      CG-1  [0.9-1.0]-1      GG-2  [0.9-1.0]-2      CC-3   \n\n           score3 rs9371601       score4 rs1064395       score5 rs7680321  \\\n0     [0.9-1.0]-3      GG-4  [0.9-1.0]-4      GG-5  [0.9-1.0]-5      TT-6   \n1     [0.9-1.0]-3      TT-4  [0.9-1.0]-4      AG-5  [0.9-1.0]-5      CT-6   \n2     [0.9-1.0]-3      GG-4  [0.9-1.0]-4      GG-5  [0.9-1.0]-5      TT-6   \n3     [0.9-1.0]-3      GG-4  [0.9-1.0]-4      GG-5  [0.9-1.0]-5      TT-6   \n4     [0.9-1.0]-3      GT-4  [0.9-1.0]-4      AG-5  [0.9-1.0]-5      TT-6   \n...           ...       ...          ...       ...          ...       ...   \n3495  [0.9-1.0]-3      GT-4  [0.9-1.0]-4      GG-5  [0.9-1.0]-5      TT-6   \n3496  [0.9-1.0]-3      GT-4  [0.9-1.0]-4      GG-5  [0.9-1.0]-5      TT-6   \n3497  [0.9-1.0]-3      GG-4  [0.9-1.0]-4      GG-5  [0.9-1.0]-5      TT-6   \n3498  [0.9-1.0]-3      GG-4  [0.9-1.0]-4      GG-5  [0.9-1.0]-5      TT-6   \n3499  [0.9-1.0]-3      GT-4  [0.9-1.0]-4      GG-5  [0.9-1.0]-5      TT-6   \n\n           score6 rs9621532       score7  Age        Region  Gender   cohort  \n0     [0.9-1.0]-6      AC-7  [0.9-1.0]-7    3  Southwestern  female     case  \n1     [0.9-1.0]-6      AA-7  [0.9-1.0]-7    5  Southwestern  female     case  \n2     [0.9-1.0]-6      AA-7  [0.9-1.0]-7    6  Northwestern  female     case  \n3     [0.9-1.0]-6      AA-7  [0.9-1.0]-7    3      Southern    male     case  \n4     [0.9-1.0]-6      AA-7  [0.9-1.0]-7    7         Wales    male     case  \n...           ...       ...          ...  ...           ...     ...      ...  \n3495  [0.9-1.0]-6      AA-7  [0.9-1.0]-7    6  Northwestern  female  control  \n3496  [0.9-1.0]-6      AA-7  [0.9-1.0]-7    6      Northern  female  control  \n3497  [0.9-1.0]-6      AA-7  [0.9-1.0]-7    6  Northwestern  female  control  \n3498  [0.9-1.0]-6      AA-7  [0.9-1.0]-7    6  Southeastern  female  control  \n3499  [0.9-1.0]-6      AC-7  [0.9-1.0]-7    6       Eastern  female  control  \n\n[3500 rows x 19 columns]",
      "text/html": "<div>\n<style scoped>\n    .dataframe tbody tr th:only-of-type {\n        vertical-align: middle;\n    }\n\n    .dataframe tbody tr th {\n        vertical-align: top;\n    }\n\n    .dataframe thead th {\n        text-align: right;\n    }\n</style>\n<table border=\"1\" class=\"dataframe\">\n  <thead>\n    <tr style=\"text-align: right;\">\n      <th></th>\n      <th>patient</th>\n      <th>rs1523041</th>\n      <th>score1</th>\n      <th>rs1006737</th>\n      <th>score2</th>\n      <th>rs4765914</th>\n      <th>score3</th>\n      <th>rs9371601</th>\n      <th>score4</th>\n      <th>rs1064395</th>\n      <th>score5</th>\n      <th>rs7680321</th>\n      <th>score6</th>\n      <th>rs9621532</th>\n      <th>score7</th>\n      <th>Age</th>\n      <th>Region</th>\n      <th>Gender</th>\n      <th>cohort</th>\n    </tr>\n  </thead>\n  <tbody>\n    <tr>\n      <th>0</th>\n      <td>WTCCC65841</td>\n      <td>GG-1</td>\n      <td>[0.9-1.0]-1</td>\n      <td>AG-2</td>\n      <td>[0.9-1.0]-2</td>\n      <td>CT-3</td>\n      <td>[0.9-1.0]-3</td>\n      <td>GG-4</td>\n      <td>[0.9-1.0]-4</td>\n      <td>GG-5</td>\n      <td>[0.9-1.0]-5</td>\n      <td>TT-6</td>\n      <td>[0.9-1.0]-6</td>\n      <td>AC-7</td>\n      <td>[0.9-1.0]-7</td>\n      <td>3</td>\n      <td>Southwestern</td>\n      <td>female</td>\n      <td>case</td>\n    </tr>\n    <tr>\n      <th>1</th>\n      <td>WTCCC65569</td>\n      <td>CG-1</td>\n      <td>[0.9-1.0]-1</td>\n      <td>AG-2</td>\n      <td>[0.9-1.0]-2</td>\n      <td>CT-3</td>\n      <td>[0.9-1.0]-3</td>\n      <td>TT-4</td>\n      <td>[0.9-1.0]-4</td>\n      <td>AG-5</td>\n      <td>[0.9-1.0]-5</td>\n      <td>CT-6</td>\n      <td>[0.9-1.0]-6</td>\n      <td>AA-7</td>\n      <td>[0.9-1.0]-7</td>\n      <td>5</td>\n      <td>Southwestern</td>\n      <td>female</td>\n      <td>case</td>\n    </tr>\n    <tr>\n      <th>2</th>\n      <td>WTCCC65777</td>\n      <td>CG-1</td>\n      <td>[0.9-1.0]-1</td>\n      <td>AG-2</td>\n      <td>[0.9-1.0]-2</td>\n      <td>CC-3</td>\n      <td>[0.9-1.0]-3</td>\n      <td>GG-4</td>\n      <td>[0.9-1.0]-4</td>\n      <td>GG-5</td>\n      <td>[0.9-1.0]-5</td>\n      <td>TT-6</td>\n      <td>[0.9-1.0]-6</td>\n      <td>AA-7</td>\n      <td>[0.9-1.0]-7</td>\n      <td>6</td>\n      <td>Northwestern</td>\n      <td>female</td>\n      <td>case</td>\n    </tr>\n    <tr>\n      <th>3</th>\n      <td>WTCCC65795</td>\n      <td>GG-1</td>\n      <td>[0.9-1.0]-1</td>\n      <td>AG-2</td>\n      <td>[0.9-1.0]-2</td>\n      <td>CC-3</td>\n      <td>[0.9-1.0]-3</td>\n      <td>GG-4</td>\n      <td>[0.9-1.0]-4</td>\n      <td>GG-5</td>\n      <td>[0.9-1.0]-5</td>\n      <td>TT-6</td>\n      <td>[0.9-1.0]-6</td>\n      <td>AA-7</td>\n      <td>[0.9-1.0]-7</td>\n      <td>3</td>\n      <td>Southern</td>\n      <td>male</td>\n      <td>case</td>\n    </tr>\n    <tr>\n      <th>4</th>\n      <td>WTCCC65810</td>\n      <td>CG-1</td>\n      <td>[0.9-1.0]-1</td>\n      <td>AG-2</td>\n      <td>[0.9-1.0]-2</td>\n      <td>CT-3</td>\n      <td>[0.9-1.0]-3</td>\n      <td>GT-4</td>\n      <td>[0.9-1.0]-4</td>\n      <td>AG-5</td>\n      <td>[0.9-1.0]-5</td>\n      <td>TT-6</td>\n      <td>[0.9-1.0]-6</td>\n      <td>AA-7</td>\n      <td>[0.9-1.0]-7</td>\n      <td>7</td>\n      <td>Wales</td>\n      <td>male</td>\n      <td>case</td>\n    </tr>\n    <tr>\n      <th>...</th>\n      <td>...</td>\n      <td>...</td>\n      <td>...</td>\n      <td>...</td>\n      <td>...</td>\n      <td>...</td>\n      <td>...</td>\n      <td>...</td>\n      <td>...</td>\n      <td>...</td>\n      <td>...</td>\n      <td>...</td>\n      <td>...</td>\n      <td>...</td>\n      <td>...</td>\n      <td>...</td>\n      <td>...</td>\n      <td>...</td>\n      <td>...</td>\n    </tr>\n    <tr>\n      <th>3495</th>\n      <td>WTCCC89356</td>\n      <td>CG-1</td>\n      <td>[0.9-1.0]-1</td>\n      <td>AG-2</td>\n      <td>[0.9-1.0]-2</td>\n      <td>CT-3</td>\n      <td>[0.9-1.0]-3</td>\n      <td>GT-4</td>\n      <td>[0.9-1.0]-4</td>\n      <td>GG-5</td>\n      <td>[0.9-1.0]-5</td>\n      <td>TT-6</td>\n      <td>[0.9-1.0]-6</td>\n      <td>AA-7</td>\n      <td>[0.9-1.0]-7</td>\n      <td>6</td>\n      <td>Northwestern</td>\n      <td>female</td>\n      <td>control</td>\n    </tr>\n    <tr>\n      <th>3496</th>\n      <td>WTCCC89359</td>\n      <td>CG-1</td>\n      <td>[0.9-1.0]-1</td>\n      <td>AG-2</td>\n      <td>[0.9-1.0]-2</td>\n      <td>CC-3</td>\n      <td>[0.9-1.0]-3</td>\n      <td>GT-4</td>\n      <td>[0.9-1.0]-4</td>\n      <td>GG-5</td>\n      <td>[0.9-1.0]-5</td>\n      <td>TT-6</td>\n      <td>[0.9-1.0]-6</td>\n      <td>AA-7</td>\n      <td>[0.9-1.0]-7</td>\n      <td>6</td>\n      <td>Northern</td>\n      <td>female</td>\n      <td>control</td>\n    </tr>\n    <tr>\n      <th>3497</th>\n      <td>WTCCC89360</td>\n      <td>CG-1</td>\n      <td>[0.9-1.0]-1</td>\n      <td>AG-2</td>\n      <td>[0.9-1.0]-2</td>\n      <td>CT-3</td>\n      <td>[0.9-1.0]-3</td>\n      <td>GG-4</td>\n      <td>[0.9-1.0]-4</td>\n      <td>GG-5</td>\n      <td>[0.9-1.0]-5</td>\n      <td>TT-6</td>\n      <td>[0.9-1.0]-6</td>\n      <td>AA-7</td>\n      <td>[0.9-1.0]-7</td>\n      <td>6</td>\n      <td>Northwestern</td>\n      <td>female</td>\n      <td>control</td>\n    </tr>\n    <tr>\n      <th>3498</th>\n      <td>WTCCC89361</td>\n      <td>CC-1</td>\n      <td>[0.9-1.0]-1</td>\n      <td>AG-2</td>\n      <td>[0.9-1.0]-2</td>\n      <td>CT-3</td>\n      <td>[0.9-1.0]-3</td>\n      <td>GG-4</td>\n      <td>[0.9-1.0]-4</td>\n      <td>GG-5</td>\n      <td>[0.9-1.0]-5</td>\n      <td>TT-6</td>\n      <td>[0.9-1.0]-6</td>\n      <td>AA-7</td>\n      <td>[0.9-1.0]-7</td>\n      <td>6</td>\n      <td>Southeastern</td>\n      <td>female</td>\n      <td>control</td>\n    </tr>\n    <tr>\n      <th>3499</th>\n      <td>WTCCC89363</td>\n      <td>CG-1</td>\n      <td>[0.9-1.0]-1</td>\n      <td>GG-2</td>\n      <td>[0.9-1.0]-2</td>\n      <td>CC-3</td>\n      <td>[0.9-1.0]-3</td>\n      <td>GT-4</td>\n      <td>[0.9-1.0]-4</td>\n      <td>GG-5</td>\n      <td>[0.9-1.0]-5</td>\n      <td>TT-6</td>\n      <td>[0.9-1.0]-6</td>\n      <td>AC-7</td>\n      <td>[0.9-1.0]-7</td>\n      <td>6</td>\n      <td>Eastern</td>\n      <td>female</td>\n      <td>control</td>\n    </tr>\n  </tbody>\n</table>\n<p>3500 rows × 19 columns</p>\n</div>"
     },
     "execution_count": 20,
     "metadata": {},
     "output_type": "execute_result"
    }
   ],
   "source": [
    "dataset_upload = pb.read_csv(\"C:\\\\Users\\\\USER\\\\Desktop\\\\FCUP - Doutoramento\\\\PHD_Thesis_Git_Code\\\\WTCCC\\\\table_study_cases_control.csv\")\n",
    "dataset_upload"
   ],
   "metadata": {
    "collapsed": false,
    "pycharm": {
     "name": "#%%\n"
    }
   }
  },
  {
   "cell_type": "code",
   "execution_count": 39,
   "outputs": [
    {
     "data": {
      "text/plain": "         patient rs1523041 rs1006737 rs4765914 rs9371601 rs1064395 rs7680321  \\\n0     WTCCC65841      GG-1      AG-2      CT-3      GG-4      GG-5      TT-6   \n1     WTCCC65569      CG-1      AG-2      CT-3      TT-4      AG-5      CT-6   \n2     WTCCC65777      CG-1      AG-2      CC-3      GG-4      GG-5      TT-6   \n3     WTCCC65795      GG-1      AG-2      CC-3      GG-4      GG-5      TT-6   \n4     WTCCC65810      CG-1      AG-2      CT-3      GT-4      AG-5      TT-6   \n...          ...       ...       ...       ...       ...       ...       ...   \n1993  WTCCC64699      CC-1      GG-2      CC-3      GG-4      GG-5      CC-6   \n1994  WTCCC64724      CG-1      GG-2      CC-3      GT-4      GG-5      CT-6   \n1995  WTCCC64656      CC-1      AG-2      CC-3      GT-4      AG-5      CT-6   \n1996  WTCCC64661      CG-1      GG-2      CC-3      GG-4      GG-5      TT-6   \n1997  WTCCC64670      CG-1      AG-2      CT-3      TT-4      GG-5      TT-6   \n\n     rs9621532  Age        Region  Gender cohort  \n0         AC-7    3  Southwestern  female   case  \n1         AA-7    5  Southwestern  female   case  \n2         AA-7    6  Northwestern  female   case  \n3         AA-7    3      Southern    male   case  \n4         AA-7    7         Wales    male   case  \n...        ...  ...           ...     ...    ...  \n1993      AA-7    3         Wales    male   case  \n1994      AA-7    4      Midlands    male   case  \n1995      AA-7    3      Midlands  female   case  \n1996      AA-7    5      Northern  female   case  \n1997      AA-7    3      Midlands  female   case  \n\n[1998 rows x 12 columns]",
      "text/html": "<div>\n<style scoped>\n    .dataframe tbody tr th:only-of-type {\n        vertical-align: middle;\n    }\n\n    .dataframe tbody tr th {\n        vertical-align: top;\n    }\n\n    .dataframe thead th {\n        text-align: right;\n    }\n</style>\n<table border=\"1\" class=\"dataframe\">\n  <thead>\n    <tr style=\"text-align: right;\">\n      <th></th>\n      <th>patient</th>\n      <th>rs1523041</th>\n      <th>rs1006737</th>\n      <th>rs4765914</th>\n      <th>rs9371601</th>\n      <th>rs1064395</th>\n      <th>rs7680321</th>\n      <th>rs9621532</th>\n      <th>Age</th>\n      <th>Region</th>\n      <th>Gender</th>\n      <th>cohort</th>\n    </tr>\n  </thead>\n  <tbody>\n    <tr>\n      <th>0</th>\n      <td>WTCCC65841</td>\n      <td>GG-1</td>\n      <td>AG-2</td>\n      <td>CT-3</td>\n      <td>GG-4</td>\n      <td>GG-5</td>\n      <td>TT-6</td>\n      <td>AC-7</td>\n      <td>3</td>\n      <td>Southwestern</td>\n      <td>female</td>\n      <td>case</td>\n    </tr>\n    <tr>\n      <th>1</th>\n      <td>WTCCC65569</td>\n      <td>CG-1</td>\n      <td>AG-2</td>\n      <td>CT-3</td>\n      <td>TT-4</td>\n      <td>AG-5</td>\n      <td>CT-6</td>\n      <td>AA-7</td>\n      <td>5</td>\n      <td>Southwestern</td>\n      <td>female</td>\n      <td>case</td>\n    </tr>\n    <tr>\n      <th>2</th>\n      <td>WTCCC65777</td>\n      <td>CG-1</td>\n      <td>AG-2</td>\n      <td>CC-3</td>\n      <td>GG-4</td>\n      <td>GG-5</td>\n      <td>TT-6</td>\n      <td>AA-7</td>\n      <td>6</td>\n      <td>Northwestern</td>\n      <td>female</td>\n      <td>case</td>\n    </tr>\n    <tr>\n      <th>3</th>\n      <td>WTCCC65795</td>\n      <td>GG-1</td>\n      <td>AG-2</td>\n      <td>CC-3</td>\n      <td>GG-4</td>\n      <td>GG-5</td>\n      <td>TT-6</td>\n      <td>AA-7</td>\n      <td>3</td>\n      <td>Southern</td>\n      <td>male</td>\n      <td>case</td>\n    </tr>\n    <tr>\n      <th>4</th>\n      <td>WTCCC65810</td>\n      <td>CG-1</td>\n      <td>AG-2</td>\n      <td>CT-3</td>\n      <td>GT-4</td>\n      <td>AG-5</td>\n      <td>TT-6</td>\n      <td>AA-7</td>\n      <td>7</td>\n      <td>Wales</td>\n      <td>male</td>\n      <td>case</td>\n    </tr>\n    <tr>\n      <th>...</th>\n      <td>...</td>\n      <td>...</td>\n      <td>...</td>\n      <td>...</td>\n      <td>...</td>\n      <td>...</td>\n      <td>...</td>\n      <td>...</td>\n      <td>...</td>\n      <td>...</td>\n      <td>...</td>\n      <td>...</td>\n    </tr>\n    <tr>\n      <th>1993</th>\n      <td>WTCCC64699</td>\n      <td>CC-1</td>\n      <td>GG-2</td>\n      <td>CC-3</td>\n      <td>GG-4</td>\n      <td>GG-5</td>\n      <td>CC-6</td>\n      <td>AA-7</td>\n      <td>3</td>\n      <td>Wales</td>\n      <td>male</td>\n      <td>case</td>\n    </tr>\n    <tr>\n      <th>1994</th>\n      <td>WTCCC64724</td>\n      <td>CG-1</td>\n      <td>GG-2</td>\n      <td>CC-3</td>\n      <td>GT-4</td>\n      <td>GG-5</td>\n      <td>CT-6</td>\n      <td>AA-7</td>\n      <td>4</td>\n      <td>Midlands</td>\n      <td>male</td>\n      <td>case</td>\n    </tr>\n    <tr>\n      <th>1995</th>\n      <td>WTCCC64656</td>\n      <td>CC-1</td>\n      <td>AG-2</td>\n      <td>CC-3</td>\n      <td>GT-4</td>\n      <td>AG-5</td>\n      <td>CT-6</td>\n      <td>AA-7</td>\n      <td>3</td>\n      <td>Midlands</td>\n      <td>female</td>\n      <td>case</td>\n    </tr>\n    <tr>\n      <th>1996</th>\n      <td>WTCCC64661</td>\n      <td>CG-1</td>\n      <td>GG-2</td>\n      <td>CC-3</td>\n      <td>GG-4</td>\n      <td>GG-5</td>\n      <td>TT-6</td>\n      <td>AA-7</td>\n      <td>5</td>\n      <td>Northern</td>\n      <td>female</td>\n      <td>case</td>\n    </tr>\n    <tr>\n      <th>1997</th>\n      <td>WTCCC64670</td>\n      <td>CG-1</td>\n      <td>AG-2</td>\n      <td>CT-3</td>\n      <td>TT-4</td>\n      <td>GG-5</td>\n      <td>TT-6</td>\n      <td>AA-7</td>\n      <td>3</td>\n      <td>Midlands</td>\n      <td>female</td>\n      <td>case</td>\n    </tr>\n  </tbody>\n</table>\n<p>1998 rows × 12 columns</p>\n</div>"
     },
     "execution_count": 39,
     "metadata": {},
     "output_type": "execute_result"
    }
   ],
   "source": [
    "dataset_upload_without_scores = dataset_upload.drop(columns=[\"score1\",\"score2\",\"score3\",\"score4\",\"score5\",\"score6\",\"score7\"])\n",
    "dataset_upload_without_scores_just_cases = dataset_upload_without_scores[dataset_upload_without_scores[\"cohort\"] == 'case']\n",
    "\n",
    "dataset_upload_without_scores_just_cases"
   ],
   "metadata": {
    "collapsed": false,
    "pycharm": {
     "name": "#%%\n"
    }
   }
  },
  {
   "cell_type": "code",
   "execution_count": 22,
   "outputs": [],
   "source": [
    "frames = [dataset_upload,merge_dataset]\n",
    "\n",
    "result = pb.concat(frames)\n",
    "\n",
    "result\n",
    "result.to_csv(\"C:\\\\Users\\\\USER\\\\Desktop\\\\FCUP - Doutoramento\\\\PHD_Thesis_Git_Code\\\\WTCCC\\\\table_study_cases_control_with_scores_and_new_controls.csv\", index = False)"
   ],
   "metadata": {
    "collapsed": false,
    "pycharm": {
     "name": "#%%\n"
    }
   }
  },
  {
   "cell_type": "code",
   "execution_count": 41,
   "outputs": [],
   "source": [
    "frames_2 = [dataset_upload_without_scores_just_cases,merge_dataset]\n",
    "\n",
    "result_2 = pb.concat(frames_2)\n",
    "\n",
    "result_2\n",
    "result_2.to_csv(\"C:\\\\Users\\\\USER\\\\Desktop\\\\FCUP - Doutoramento\\\\PHD_Thesis_Git_Code\\\\WTCCC\\\\table_study_cases_control_with_just_new_controls.csv\", index = False)"
   ],
   "metadata": {
    "collapsed": false,
    "pycharm": {
     "name": "#%%\n"
    }
   }
  },
  {
   "cell_type": "code",
   "execution_count": 42,
   "outputs": [
    {
     "data": {
      "text/plain": "          patient rs1523041 rs1006737 rs4765914 rs9371601 rs1064395 rs7680321  \\\n0      WTCCC65841      GG-1      AG-2      CT-3      GG-4      GG-5      TT-6   \n1      WTCCC65569      CG-1      AG-2      CT-3      TT-4      AG-5      CT-6   \n2      WTCCC65777      CG-1      AG-2      CC-3      GG-4      GG-5      TT-6   \n3      WTCCC65795      GG-1      AG-2      CC-3      GG-4      GG-5      TT-6   \n4      WTCCC65810      CG-1      AG-2      CT-3      GT-4      AG-5      TT-6   \n...           ...       ...       ...       ...       ...       ...       ...   \n1495  WTCCC127809      CG-1      AG-2      CT-3      GT-4      GG-5      TT-6   \n1496  WTCCC127812      CC-1      GG-2      CC-3      GG-4      GG-5      TT-6   \n1497  WTCCC127814      CG-1      AG-2      CC-3      GG-4      GG-5      TT-6   \n1498  WTCCC127815      CG-1      AA-2      TT-3      GT-4      GG-5      TT-6   \n1499  WTCCC127817      CG-1      GG-2      CC-3      GT-4      GG-5      TT-6   \n\n     rs9621532  Age               Region  Gender   cohort  \n0         AC-7    3         Southwestern  female     case  \n1         AA-7    5         Southwestern  female     case  \n2         AA-7    6         Northwestern  female     case  \n3         AA-7    3             Southern    male     case  \n4         AA-7    7                Wales    male     case  \n...        ...  ...                  ...     ...      ...  \n1495      AA-7    5              Eastern    male  control  \n1496      AA-7    3             Northern  female  control  \n1497      AA-7    3             Northern    male  control  \n1498      AA-7    4             Midlands    male  control  \n1499      AC-7    6  East + West Ridings    male  control  \n\n[3498 rows x 12 columns]",
      "text/html": "<div>\n<style scoped>\n    .dataframe tbody tr th:only-of-type {\n        vertical-align: middle;\n    }\n\n    .dataframe tbody tr th {\n        vertical-align: top;\n    }\n\n    .dataframe thead th {\n        text-align: right;\n    }\n</style>\n<table border=\"1\" class=\"dataframe\">\n  <thead>\n    <tr style=\"text-align: right;\">\n      <th></th>\n      <th>patient</th>\n      <th>rs1523041</th>\n      <th>rs1006737</th>\n      <th>rs4765914</th>\n      <th>rs9371601</th>\n      <th>rs1064395</th>\n      <th>rs7680321</th>\n      <th>rs9621532</th>\n      <th>Age</th>\n      <th>Region</th>\n      <th>Gender</th>\n      <th>cohort</th>\n    </tr>\n  </thead>\n  <tbody>\n    <tr>\n      <th>0</th>\n      <td>WTCCC65841</td>\n      <td>GG-1</td>\n      <td>AG-2</td>\n      <td>CT-3</td>\n      <td>GG-4</td>\n      <td>GG-5</td>\n      <td>TT-6</td>\n      <td>AC-7</td>\n      <td>3</td>\n      <td>Southwestern</td>\n      <td>female</td>\n      <td>case</td>\n    </tr>\n    <tr>\n      <th>1</th>\n      <td>WTCCC65569</td>\n      <td>CG-1</td>\n      <td>AG-2</td>\n      <td>CT-3</td>\n      <td>TT-4</td>\n      <td>AG-5</td>\n      <td>CT-6</td>\n      <td>AA-7</td>\n      <td>5</td>\n      <td>Southwestern</td>\n      <td>female</td>\n      <td>case</td>\n    </tr>\n    <tr>\n      <th>2</th>\n      <td>WTCCC65777</td>\n      <td>CG-1</td>\n      <td>AG-2</td>\n      <td>CC-3</td>\n      <td>GG-4</td>\n      <td>GG-5</td>\n      <td>TT-6</td>\n      <td>AA-7</td>\n      <td>6</td>\n      <td>Northwestern</td>\n      <td>female</td>\n      <td>case</td>\n    </tr>\n    <tr>\n      <th>3</th>\n      <td>WTCCC65795</td>\n      <td>GG-1</td>\n      <td>AG-2</td>\n      <td>CC-3</td>\n      <td>GG-4</td>\n      <td>GG-5</td>\n      <td>TT-6</td>\n      <td>AA-7</td>\n      <td>3</td>\n      <td>Southern</td>\n      <td>male</td>\n      <td>case</td>\n    </tr>\n    <tr>\n      <th>4</th>\n      <td>WTCCC65810</td>\n      <td>CG-1</td>\n      <td>AG-2</td>\n      <td>CT-3</td>\n      <td>GT-4</td>\n      <td>AG-5</td>\n      <td>TT-6</td>\n      <td>AA-7</td>\n      <td>7</td>\n      <td>Wales</td>\n      <td>male</td>\n      <td>case</td>\n    </tr>\n    <tr>\n      <th>...</th>\n      <td>...</td>\n      <td>...</td>\n      <td>...</td>\n      <td>...</td>\n      <td>...</td>\n      <td>...</td>\n      <td>...</td>\n      <td>...</td>\n      <td>...</td>\n      <td>...</td>\n      <td>...</td>\n      <td>...</td>\n    </tr>\n    <tr>\n      <th>1495</th>\n      <td>WTCCC127809</td>\n      <td>CG-1</td>\n      <td>AG-2</td>\n      <td>CT-3</td>\n      <td>GT-4</td>\n      <td>GG-5</td>\n      <td>TT-6</td>\n      <td>AA-7</td>\n      <td>5</td>\n      <td>Eastern</td>\n      <td>male</td>\n      <td>control</td>\n    </tr>\n    <tr>\n      <th>1496</th>\n      <td>WTCCC127812</td>\n      <td>CC-1</td>\n      <td>GG-2</td>\n      <td>CC-3</td>\n      <td>GG-4</td>\n      <td>GG-5</td>\n      <td>TT-6</td>\n      <td>AA-7</td>\n      <td>3</td>\n      <td>Northern</td>\n      <td>female</td>\n      <td>control</td>\n    </tr>\n    <tr>\n      <th>1497</th>\n      <td>WTCCC127814</td>\n      <td>CG-1</td>\n      <td>AG-2</td>\n      <td>CC-3</td>\n      <td>GG-4</td>\n      <td>GG-5</td>\n      <td>TT-6</td>\n      <td>AA-7</td>\n      <td>3</td>\n      <td>Northern</td>\n      <td>male</td>\n      <td>control</td>\n    </tr>\n    <tr>\n      <th>1498</th>\n      <td>WTCCC127815</td>\n      <td>CG-1</td>\n      <td>AA-2</td>\n      <td>TT-3</td>\n      <td>GT-4</td>\n      <td>GG-5</td>\n      <td>TT-6</td>\n      <td>AA-7</td>\n      <td>4</td>\n      <td>Midlands</td>\n      <td>male</td>\n      <td>control</td>\n    </tr>\n    <tr>\n      <th>1499</th>\n      <td>WTCCC127817</td>\n      <td>CG-1</td>\n      <td>GG-2</td>\n      <td>CC-3</td>\n      <td>GT-4</td>\n      <td>GG-5</td>\n      <td>TT-6</td>\n      <td>AC-7</td>\n      <td>6</td>\n      <td>East + West Ridings</td>\n      <td>male</td>\n      <td>control</td>\n    </tr>\n  </tbody>\n</table>\n<p>3498 rows × 12 columns</p>\n</div>"
     },
     "execution_count": 42,
     "metadata": {},
     "output_type": "execute_result"
    }
   ],
   "source": [
    "result_2"
   ],
   "metadata": {
    "collapsed": false,
    "pycharm": {
     "name": "#%%\n"
    }
   }
  },
  {
   "cell_type": "code",
   "execution_count": null,
   "outputs": [],
   "source": [],
   "metadata": {
    "collapsed": false,
    "pycharm": {
     "name": "#%%\n"
    }
   }
  }
 ],
 "metadata": {
  "kernelspec": {
   "display_name": "Python 3",
   "language": "python",
   "name": "python3"
  },
  "language_info": {
   "codemirror_mode": {
    "name": "ipython",
    "version": 2
   },
   "file_extension": ".py",
   "mimetype": "text/x-python",
   "name": "python",
   "nbconvert_exporter": "python",
   "pygments_lexer": "ipython2",
   "version": "2.7.6"
  }
 },
 "nbformat": 4,
 "nbformat_minor": 0
}